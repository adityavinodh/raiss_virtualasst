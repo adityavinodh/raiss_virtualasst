{
 "cells": [
  {
   "cell_type": "code",
   "execution_count": 27,
   "id": "6fce10ef",
   "metadata": {
    "ExecuteTime": {
     "end_time": "2025-03-20T23:30:45.302864Z",
     "start_time": "2025-03-20T23:30:45.292990Z"
    }
   },
   "outputs": [],
   "source": [
    "import pandas as pd\n",
    "import requests\n",
    "from bs4 import BeautifulSoup\n",
    "import time\n",
    "from concurrent.futures import ThreadPoolExecutor, as_completed\n",
    "os.chdir(\"/Users/adityavinodh/Documents/sp25mps/raiss_ai\")  \n",
    "sitemap = pd.read_csv(\"RAISS_sitemap.csv\", dtype=str)  \n",
    "sitemap['URL location']\n",
    "file_url_map = [url for url in sitemap[\"URL location\"]]"
   ]
  },
  {
   "cell_type": "code",
   "execution_count": 16,
   "id": "7fe4056e",
   "metadata": {
    "ExecuteTime": {
     "end_time": "2025-03-20T22:59:31.562604Z",
     "start_time": "2025-03-20T22:58:47.246592Z"
    }
   },
   "outputs": [
    {
     "name": "stdout",
     "output_type": "stream",
     "text": [
      "Error scraping https://researchservices.cornell.edu/news/new-cayuse-animal-management-system-scheduled-go-live-monday-january-3-2022: 403 Client Error: Forbidden for url: https://researchservices.cornell.edu/news/new-cayuse-animal-management-system-scheduled-go-live-monday-january-3-2022\n",
      "Error scraping https://researchservices.cornell.edu/iacuc-census: 403 Client Error: Forbidden for url: https://researchservices.cornell.edu/iacuc-census\n",
      "Error scraping https://researchservices.cornell.edu/offices/iacuc: 403 Client Error: Forbidden for url: https://researchservices.cornell.edu/offices/iacuc\n",
      "Error scraping https://researchservices.cornell.edu/policies/iacuc-policy-400-iacuc-policy-semi-annual-inspections: 403 Client Error: Forbidden for url: https://researchservices.cornell.edu/policies/iacuc-policy-400-iacuc-policy-semi-annual-inspections\n",
      "Error scraping https://researchservices.cornell.edu/policies/iacuc-policy-110-managing-reported-concerns-deviations-protocols-or-unanticipated-adverse: 403 Client Error: Forbidden for url: https://researchservices.cornell.edu/policies/iacuc-policy-110-managing-reported-concerns-deviations-protocols-or-unanticipated-adverse\n",
      "Error scraping https://researchservices.cornell.edu/policies/iacuc-policy-100-cornell-university-whistle-blower-policy: 403 Client Error: Forbidden for url: https://researchservices.cornell.edu/policies/iacuc-policy-100-cornell-university-whistle-blower-policy\n",
      "Error scraping https://researchservices.cornell.edu/policies/iacuc-policy-300-review-and-approval-applications-protocols-amendments-and-annual-reviews: 403 Client Error: Forbidden for url: https://researchservices.cornell.edu/policies/iacuc-policy-300-review-and-approval-applications-protocols-amendments-and-annual-reviews\n",
      "Error scraping https://researchservices.cornell.edu/policies/iacuc-policy-340-principal-investigator-eligibility-protocols-involving-use-vertebrate: 403 Client Error: Forbidden for url: https://researchservices.cornell.edu/policies/iacuc-policy-340-principal-investigator-eligibility-protocols-involving-use-vertebrate\n",
      "Error scraping https://researchservices.cornell.edu/policies/iacuc-policy-310-process-review-and-approval-protocols-and-amendments-biohazardous: 403 Client Error: Forbidden for url: https://researchservices.cornell.edu/policies/iacuc-policy-310-process-review-and-approval-protocols-and-amendments-biohazardous\n",
      "Error scraping https://researchservices.cornell.edu/policies/iacuc-policy-420-review-animal-facility-standard-operating-procedures-sops-and-animal-care: 403 Client Error: Forbidden for url: https://researchservices.cornell.edu/policies/iacuc-policy-420-review-animal-facility-standard-operating-procedures-sops-and-animal-care\n",
      "Error scraping https://researchservices.cornell.edu/policies/iacuc-policy-200-education-and-training-humane-care-and-use-animals-research-teaching-and: 403 Client Error: Forbidden for url: https://researchservices.cornell.edu/policies/iacuc-policy-200-education-and-training-humane-care-and-use-animals-research-teaching-and\n",
      "Error scraping https://researchservices.cornell.edu/policies/iacuc-policy-430-animal-transfers-and-tracking-animal-use-between-protocols: 403 Client Error: Forbidden for url: https://researchservices.cornell.edu/policies/iacuc-policy-430-animal-transfers-and-tracking-animal-use-between-protocols\n",
      "Error scraping https://researchservices.cornell.edu/policies/iacuc-policy-320-guidelines-assigning-animals-pain-and-distress-categories: 403 Client Error: Forbidden for url: https://researchservices.cornell.edu/policies/iacuc-policy-320-guidelines-assigning-animals-pain-and-distress-categories\n",
      "Error scraping https://researchservices.cornell.edu/policies/iacuc-policy-510-protocol-refinement-or-modification-under-care-veterinarians-oversight: 403 Client Error: Forbidden for url: https://researchservices.cornell.edu/policies/iacuc-policy-510-protocol-refinement-or-modification-under-care-veterinarians-oversight\n",
      "Error scraping https://researchservices.cornell.edu/policies/iacuc-policy-520-transportation-animals: 403 Client Error: Forbidden for url: https://researchservices.cornell.edu/policies/iacuc-policy-520-transportation-animals\n",
      "Error scraping https://researchservices.cornell.edu/policies/iacuc-policy-350-animal-work-conducted-non-cornell-organizations: 403 Client Error: Forbidden for url: https://researchservices.cornell.edu/policies/iacuc-policy-350-animal-work-conducted-non-cornell-organizations\n",
      "Error scraping https://researchservices.cornell.edu/policies/iacuc-policy-360-obtaining-custom-antibodies-live-animals: 403 Client Error: Forbidden for url: https://researchservices.cornell.edu/policies/iacuc-policy-360-obtaining-custom-antibodies-live-animals\n",
      "Error scraping https://researchservices.cornell.edu/policies/iacuc-policy-330-managing-exemptions-standards-care: 403 Client Error: Forbidden for url: https://researchservices.cornell.edu/policies/iacuc-policy-330-managing-exemptions-standards-care\n",
      "Error scraping https://researchservices.cornell.edu/policies/iacuc-policy-410-required-signage-animal-facilities-housing-and-procedure-areas: 403 Client Error: Forbidden for url: https://researchservices.cornell.edu/policies/iacuc-policy-410-required-signage-animal-facilities-housing-and-procedure-areas\n",
      "Error scraping https://researchservices.cornell.edu/policies/iacuc-policy-500-primary-clinical-veterinary-care-performed-non-care-veterinarians: 403 Client Error: Forbidden for url: https://researchservices.cornell.edu/policies/iacuc-policy-500-primary-clinical-veterinary-care-performed-non-care-veterinarians\n",
      "Error scraping https://researchservices.cornell.edu/policies/iacuc-policy-530-exportation-animals-other-institutions: 403 Client Error: Forbidden for url: https://researchservices.cornell.edu/policies/iacuc-policy-530-exportation-animals-other-institutions\n",
      "Error scraping https://researchservices.cornell.edu/policies/iacuc-policy-550-exceptions-social-housing-animals: 403 Client Error: Forbidden for url: https://researchservices.cornell.edu/policies/iacuc-policy-550-exceptions-social-housing-animals\n",
      "Error scraping https://researchservices.cornell.edu/rates/care-diem-rates-animal-housing-and-care-service-fees: 403 Client Error: Forbidden for url: https://researchservices.cornell.edu/rates/care-diem-rates-animal-housing-and-care-service-fees\n",
      "Error scraping https://researchservices.cornell.edu/resources/care-staff: 403 Client Error: Forbidden for url: https://researchservices.cornell.edu/resources/care-staff\n",
      "Error scraping https://researchservices.cornell.edu/resources/add-personnel-approved-iacuc-protocol: 403 Client Error: Forbidden for url: https://researchservices.cornell.edu/resources/add-personnel-approved-iacuc-protocol\n",
      "Error scraping https://researchservices.cornell.edu/resources/amend-your-iacuc-protocol: 403 Client Error: Forbidden for url: https://researchservices.cornell.edu/resources/amend-your-iacuc-protocol\n",
      "Error scraping https://researchservices.cornell.edu/resources/animal-user-health-and-safety-program-auhsp: 403 Client Error: Forbidden for url: https://researchservices.cornell.edu/resources/animal-user-health-and-safety-program-auhsp\n",
      "Error scraping https://researchservices.cornell.edu/resources/avian-chlamydiosis-or-psittacosis: 403 Client Error: Forbidden for url: https://researchservices.cornell.edu/resources/avian-chlamydiosis-or-psittacosis\n",
      "Error scraping https://researchservices.cornell.edu/resources/avian-mycobacteriosis: 403 Client Error: Forbidden for url: https://researchservices.cornell.edu/resources/avian-mycobacteriosis\n",
      "Error scraping https://researchservices.cornell.edu/resources/care-hazards-analysis: 403 Client Error: Forbidden for url: https://researchservices.cornell.edu/resources/care-hazards-analysis\n",
      "Error scraping https://researchservices.cornell.edu/resources/care-service-details-and-fees: 403 Client Error: Forbidden for url: https://researchservices.cornell.edu/resources/care-service-details-and-fees\n",
      "Error scraping https://researchservices.cornell.edu/resources/complete-your-iacuc-annual-review: 403 Client Error: Forbidden for url: https://researchservices.cornell.edu/resources/complete-your-iacuc-annual-review\n",
      "Error scraping https://researchservices.cornell.edu/resources/dermatophytosis-or-ringworm: 403 Client Error: Forbidden for url: https://researchservices.cornell.edu/resources/dermatophytosis-or-ringworm\n",
      "Error scraping https://researchservices.cornell.edu/resources/get-started-live-vertebrate-animals: 403 Client Error: Forbidden for url: https://researchservices.cornell.edu/resources/get-started-live-vertebrate-animals\n",
      "Error scraping https://researchservices.cornell.edu/resources/care-occupational-health-and-safety: 403 Client Error: Forbidden for url: https://researchservices.cornell.edu/resources/care-occupational-health-and-safety\n"
     ]
    },
    {
     "name": "stdout",
     "output_type": "stream",
     "text": [
      "Error scraping https://researchservices.cornell.edu/resources/contagious-ecthyma-or-orf: 403 Client Error: Forbidden for url: https://researchservices.cornell.edu/resources/contagious-ecthyma-or-orf\n",
      "Error scraping https://researchservices.cornell.edu/resources/iacuc-faq: 403 Client Error: Forbidden for url: https://researchservices.cornell.edu/resources/iacuc-faq\n",
      "Error scraping https://researchservices.cornell.edu/resources/cryptosporidiosis: 403 Client Error: Forbidden for url: https://researchservices.cornell.edu/resources/cryptosporidiosis\n",
      "Error scraping https://researchservices.cornell.edu/resources/coxiellosis-or-q-fever: 403 Client Error: Forbidden for url: https://researchservices.cornell.edu/resources/coxiellosis-or-q-fever\n",
      "Error scraping https://researchservices.cornell.edu/resources/iacuc-schedules: 403 Client Error: Forbidden for url: https://researchservices.cornell.edu/resources/iacuc-schedules\n",
      "Error scraping https://researchservices.cornell.edu/resources/gastrointestinal-infection: 403 Client Error: Forbidden for url: https://researchservices.cornell.edu/resources/gastrointestinal-infection\n",
      "Error scraping https://researchservices.cornell.edu/resources"
     ]
    },
    {
     "data": {
      "text/html": [
       "<b>limit_output extension: Maximum message size of 10000 exceeded with 10297 characters</b>"
      ]
     },
     "metadata": {},
     "output_type": "display_data"
    }
   ],
   "source": [
    "\n",
    "# # Scrapes content from a given website\n",
    "# def scrape_website(url):\n",
    "#     \"\"\"Scrapes a given website URL and extracts structured text while avoiding navigation elements.\"\"\"\n",
    "#     headers = {\n",
    "#         \"User-Agent\": \"Mozilla/5.0\"\n",
    "#     }\n",
    "#     try:\n",
    "#         response = requests.get(url, headers=headers, timeout=10)\n",
    "#         response.raise_for_status()\n",
    "#         soup = BeautifulSoup(response.text, \"html.parser\")\n",
    "\n",
    "#         # Remove navigation and unwanted sections\n",
    "#         for tag in soup.find_all([\"nav\", \"header\", \"aside\", \"form\", \"button\"]):\n",
    "#             tag.decompose()\n",
    "\n",
    "#         main_content = soup.find(\"main\") or soup.find(\"body\")\n",
    "#         text_elements = []\n",
    "#         for element in main_content.find_all(['p', 'h1', 'h2', 'h3', 'h4', 'h5', 'h6', 'li']):\n",
    "#             text = element.get_text(strip=True)\n",
    "#             links = [a.get(\"href\") for a in element.find_all(\"a\") if a.get(\"href\")]\n",
    "#             if links:\n",
    "#                 text += \" (\" + \", \".join(links) + \")\"\n",
    "#             text_elements.append(text)\n",
    "\n",
    "#         text = \"\\n\".join(text_elements)\n",
    "\n",
    "#         cards = []\n",
    "#         for card in soup.find_all(\"div\", class_=[\"card-text\"]):\n",
    "#             card_text = card.get_text(strip=True)\n",
    "#             links = [a.get(\"href\") for a in card.find_all(\"a\") if a.get(\"href\")]\n",
    "#             if links:\n",
    "#                 card_text += \" (\" + \", \".join(links) + \")\"\n",
    "#             if card_text:\n",
    "#                 cards.append(card_text)\n",
    "\n",
    "#         card_text = \"\\n\".join(cards)\n",
    "\n",
    "#         footer = soup.find(\"footer\")\n",
    "#         footer_text = \"\"\n",
    "#         if footer:\n",
    "#             for tag in footer.find_all([\"nav\", \"ul\", \"ol\", \"form\", \"button\"]):\n",
    "#                 tag.decompose()\n",
    "#             footer_text = \"\\n\".join(\n",
    "#                 [p.get_text(strip=True) for p in footer.find_all(['p', 'h1', 'h2', 'h3', 'h4', 'h5', 'h6', 'li', 'span', 'strong'])]\n",
    "#             )\n",
    "\n",
    "#         return f\"{text}\\n\\n{card_text}\\n\\n{footer_text}\"\n",
    "#     except Exception as e:\n",
    "#         print(f\"Error scraping {url}: {e}\")\n",
    "#         return \"\"\n",
    "\n",
    "# # Function to scrape all websites in parallel and store results in-memory\n",
    "# def scrape_all_websites(file_url_map):\n",
    "#     \"\"\"Scrapes all URLs in file_url_map in parallel and stores results in-memory.\"\"\"\n",
    "#     start_time = time.time()\n",
    "\n",
    "#     scraped_data = {}\n",
    "#     with ThreadPoolExecutor(max_workers=25) as executor:\n",
    "#         future_to_key = {\n",
    "#             executor.submit(scrape_website, url): key\n",
    "#             for key, url in enumerate(file_url_map)  # Adjust to use a list of URLs\n",
    "#         }\n",
    "#         for future in as_completed(future_to_key):\n",
    "#             key = future_to_key[future]\n",
    "#             content = future.result()\n",
    "#             # Prepend the URL so the model sees the correct source\n",
    "#             the_url = file_url_map[key]\n",
    "#             scraped_data[key] = f\"Reference URL to be used for citation as source: {the_url}\\n\\n{content}\"\n",
    "\n",
    "#     end_time = time.time()\n",
    "#     print(f\"[INFO] Total web scraping execution time: {end_time - start_time:.2f} sec\")\n",
    "#     return scraped_data\n",
    "\n",
    "\n",
    "\n",
    "# # Call the function\n",
    "# scraped_data = scrape_all_websites(file_url_map)\n",
    "\n"
   ]
  },
  {
   "cell_type": "code",
   "execution_count": 20,
   "id": "60a922cf",
   "metadata": {
    "ExecuteTime": {
     "end_time": "2025-03-20T23:03:11.987706Z",
     "start_time": "2025-03-20T23:03:11.743882Z"
    }
   },
   "outputs": [
    {
     "name": "stdout",
     "output_type": "stream",
     "text": [
      "Scraped data has been saved and zipped into scraped_data.zip\n",
      "Download your files from: scraped_data.zip\n"
     ]
    }
   ],
   "source": [
    "# import os\n",
    "# import zipfile\n",
    "\n",
    "# def save_scraped_data(scraped_data, output_folder=\"scraped_data\"):\n",
    "#     \"\"\"Save the scraped data into individual text files and compress them into a zip file.\"\"\"\n",
    "#     # Create the output folder if it doesn't exist\n",
    "#     if not os.path.exists(output_folder):\n",
    "#         os.makedirs(output_folder)\n",
    "\n",
    "#     # Save each entry in the scraped_data dictionary as a separate file\n",
    "#     for key, content in scraped_data.items():\n",
    "#         # Use the integer key directly to create the filename\n",
    "#         filename = f\"{key}.txt\"\n",
    "#         filepath = os.path.join(output_folder, filename)\n",
    "\n",
    "#         # Write the content to a text file\n",
    "#         with open(filepath, \"w\", encoding=\"utf-8\") as file:\n",
    "#             file.write(content)\n",
    "\n",
    "#     # Compress the folder into a zip file\n",
    "#     zip_filename = output_folder + \".zip\"\n",
    "#     with zipfile.ZipFile(zip_filename, 'w', zipfile.ZIP_DEFLATED) as zipf:\n",
    "#         for root, dirs, files in os.walk(output_folder):\n",
    "#             for file in files:\n",
    "#                 zipf.write(os.path.join(root, file), os.path.relpath(os.path.join(root, file), output_folder))\n",
    "\n",
    "#     print(f\"Scraped data has been saved and zipped into {zip_filename}\")\n",
    "#     return zip_filename\n",
    "\n",
    "\n",
    "# # Save and zip the files\n",
    "# zip_file = save_scraped_data(scraped_data)\n",
    "\n",
    "# # Provide the path to download (if using an environment where you can download files, e.g., Jupyter notebook)\n",
    "# print(f\"Download your files from: {zip_file}\")"
   ]
  },
  {
   "cell_type": "code",
   "execution_count": 42,
   "id": "63fc4df3",
   "metadata": {
    "ExecuteTime": {
     "end_time": "2025-03-21T12:26:36.952834Z",
     "start_time": "2025-03-21T12:26:20.914521Z"
    }
   },
   "outputs": [
    {
     "name": "stdout",
     "output_type": "stream",
     "text": [
      "HTTP Error scraping https://researchservices.cornell.edu/iacuc-census: 403 Client Error: Forbidden for url: https://researchservices.cornell.edu/iacuc-census\n",
      "HTTP Error scraping https://researchservices.cornell.edu/news/new-cayuse-animal-management-system-scheduled-go-live-monday-january-3-2022: 403 Client Error: Forbidden for url: https://researchservices.cornell.edu/news/new-cayuse-animal-management-system-scheduled-go-live-monday-january-3-2022\n",
      "HTTP Error scraping https://researchservices.cornell.edu/offices/iacuc: 403 Client Error: Forbidden for url: https://researchservices.cornell.edu/offices/iacuc\n",
      "HTTP Error scraping https://researchservices.cornell.edu/policies/iacuc-policy-200-education-and-training-humane-care-and-use-animals-research-teaching-and: 403 Client Error: Forbidden for url: https://researchservices.cornell.edu/policies/iacuc-policy-200-education-and-training-humane-care-and-use-animals-research-teaching-and\n",
      "HTTP Error scraping https://researchservices.cornell.edu/policies/iacuc-policy-300-review-and-approval-applications-protocols-amendments-and-annual-reviews: 403 Client Error: Forbidden for url: https://researchservices.cornell.edu/policies/iacuc-policy-300-review-and-approval-applications-protocols-amendments-and-annual-reviews\n",
      "HTTP Error scraping https://researchservices.cornell.edu/policies/iacuc-policy-110-managing-reported-concerns-deviations-protocols-or-unanticipated-adverse: 403 Client Error: Forbidden for url: https://researchservices.cornell.edu/policies/iacuc-policy-110-managing-reported-concerns-deviations-protocols-or-unanticipated-adverse\n",
      "HTTP Error scraping https://researchservices.cornell.edu/policies/iacuc-policy-100-cornell-university-whistle-blower-policy: 403 Client Error: Forbidden for url: https://researchservices.cornell.edu/policies/iacuc-policy-100-cornell-university-whistle-blower-policy\n",
      "HTTP Error scraping https://researchservices.cornell.edu/policies/iacuc-policy-320-guidelines-assigning-animals-pain-and-distress-categories: 403 Client Error: Forbidden for url: https://researchservices.cornell.edu/policies/iacuc-policy-320-guidelines-assigning-animals-pain-and-distress-categories\n",
      "HTTP Error scraping https://researchservices.cornell.edu/policies/iacuc-policy-360-obtaining-custom-antibodies-live-animals: 403 Client Error: Forbidden for url: https://researchservices.cornell.edu/policies/iacuc-policy-360-obtaining-custom-antibodies-live-animals\n",
      "HTTP Error scraping https://researchservices.cornell.edu/policies/iacuc-policy-340-principal-investigator-eligibility-protocols-involving-use-vertebrate: 403 Client Error: Forbidden for url: https://researchservices.cornell.edu/policies/iacuc-policy-340-principal-investigator-eligibility-protocols-involving-use-vertebrate\n",
      "HTTP Error scraping https://researchservices.cornell.edu/policies/iacuc-policy-310-process-review-and-approval-protocols-and-amendments-biohazardous: 403 Client Error: Forbidden for url: https://researchservices.cornell.edu/policies/iacuc-policy-310-process-review-and-approval-protocols-and-amendments-biohazardous\n",
      "HTTP Error scraping https://researchservices.cornell.edu/policies/iacuc-policy-400-iacuc-policy-semi-annual-inspections: 403 Client Error: Forbidden for url: https://researchservices.cornell.edu/policies/iacuc-policy-400-iacuc-policy-semi-annual-inspections\n",
      "HTTP Error scraping https://researchservices.cornell.edu/policies/iacuc-policy-410-required-signage-animal-facilities-housing-and-procedure-areas: 403 Client Error: Forbidden for url: https://researchservices.cornell.edu/policies/iacuc-policy-410-required-signage-animal-facilities-housing-and-procedure-areas\n",
      "HTTP Error scraping https://researchservices.cornell.edu/policies/iacuc-policy-350-animal-work-conducted-non-cornell-organizations: 403 Client Error: Forbidden for url: https://researchservices.cornell.edu/policies/iacuc-policy-350-animal-work-conducted-non-cornell-organizations\n",
      "HTTP Error scraping https://researchservices.cornell.edu/policies/iacuc-policy-530-exportation-animals-other-institutions: 403 Client Error: Forbidden for url: https://researchservices.cornell.edu/policies/iacuc-policy-530-exportation-animals-other-institutions\n",
      "HTTP Error scraping https://researchservices.cornell.edu/policies/iacuc-policy-330-managing-exemptions-standards-care: 403 Client Error: Forbidden for url: https://researchservices.cornell.edu/policies/iacuc-policy-330-managing-exemptions-standards-care\n",
      "HTTP Error scraping https://researchservices.cornell.edu/policies/iacuc-policy-500-primary-clinical-veterinary-care-performed-non-care-veterinarians: 403 Client Error: Forbidden for url: https://researchservices.cornell.edu/policies/iacuc-policy-500-primary-clinical-veterinary-care-performed-non-care-veterinarians\n",
      "HTTP Error scraping https://researchservices.cornell.edu/policies/iacuc-policy-430-animal-transfers-and-tracking-animal-use-between-protocols: 403 Client Error: Forbidden for url: https://researchservices.cornell.edu/policies/iacuc-policy-430-animal-transfers-and-tracking-animal-use-between-protocols\n",
      "HTTP Error scraping https://researchservices.cornell.edu/policies/iacuc-policy-420-review-animal-facility-standard-operating-procedures-sops-and-animal-care: 403 Client Error: Forbidden for url: https://researchservices.cornell.edu/policies/iacuc-policy-420-review-animal-facility-standard-operating-procedures-sops-and-animal-care\n",
      "HTTP Error scraping https://researchservices.cornell.edu/policies/iacuc-policy-550-exceptions-social-housing-animals: 403 Client Error: Forbidden for url: https://researchservices.cornell.edu/policies/iacuc-policy-550-exceptions-social-housing-animals\n",
      "HTTP Error scraping https://researchservices.cornell.edu/policies/iacuc-policy-520-transportation-animals: 403 Client Error: Forbidden for url: https://researchservices.cornell.edu/policies/iacuc-policy-520-transportation-animals\n",
      "HTTP Error scraping https://researchservices.cornell.edu/policies/iacuc-policy-510-protocol-refinement-or-modification-under-care-veterinarians-oversight: 403 Client Error: Forbidden for url: https://researchservices.cornell.edu/policies/iacuc-policy-510-protocol-refinement-or-modification-under-care-veterinarians-oversight\n",
      "HTTP Error scraping https://researchservices.cornell.edu/rates/care-diem-rates-animal-housing-and-care-service-fees: 403 Client Error: Forbidden for url: https://researchservices.cornell.edu/rates/care-diem-rates-animal-housing-and-care-service-fees\n",
      "HTTP Error scraping https://researchservices.cornell.edu/resources/add-personnel-approved-iacuc-protocol: 403 Client Error: Forbidden for url: https://researchservices.cornell.edu/resources/add-personnel-approved-iacuc-protocol\n",
      "HTTP Error scraping https://researchservices.cornell.edu/resources/amend-your-iacuc-protocol: 403 Client Error: Forbidden for url: https://researchservices.cornell.edu/resources/amend-your-iacuc-protocol\n",
      "HTTP Error scraping https://researchservices.cornell.edu/resources/avian-mycobacteriosis: 403 Client Error: Forbidden for url: https://researchservices.cornell.edu/resources/avian-mycobacteriosis\n",
      "HTTP Error scraping https://researchservices.cornell.edu/resources/avian-chlamydiosis-or-psittacosis: 403 Client Error: Forbidden for url: https://researchservices.cornell.edu/resources/avian-chlamydiosis-or-psittacosis\n",
      "HTTP Error scraping https://researchservices.cornell.edu/resources/animal-user-health-and-safety-program-auhsp: 403 Client Error: Forbidden for url: https://researchservices.cornell.edu/resources/animal-user-health-and-safety-program-auhsp\n",
      "HTTP Error scraping https://researchservices.cornell.edu/resources/care-hazards-analysis: 403 Client Error: Forbidden for url: https://researchservices.cornell.edu/resources/care-hazards-analysis\n",
      "HTTP Error scraping https://researchservices.cornell.edu/resources/care-occupational-health-and-safety: 403 Client Error: Forbidden for url: https://researchservices.cornell.edu/resources/care-occupational-health-and-safety\n",
      "HTTP Error scraping https://researchservices.cornell.edu/resources/care-service-details-and-fees: 403 Client Error: Forbidden for url: https://researchservices.cornell.edu/resources/care-service-details-and-fees\n",
      "HTTP Error scraping https://researchservices.cornell.edu/resources/cryptosporidiosis: 403 Client Error: Forbidden for url: https://researchservices.cornell.edu/resources/cryptosporidiosis\n",
      "HTTP Error scraping https://researchservices.cornell.edu/resources/care-staff: 403 Client Error: Forbidden for url: https://researchservices.cornell.edu/resources/care-staff\n",
      "HTTP Error scraping https://researchservices.cornell.edu/resources/coxiellosis-or-q-fever: 403 Client Error: Forbidden for url: https://researchservices.cornell.edu/resources/coxiellosis-or-q-fever\n",
      "HTTP Error scraping https://researchservices.cornell.edu/resources/complete-your-iacuc-annual-review: 403 Client Error: Forbidden for url: https://researchservices.cornell.edu/resources/complete-your-iacuc-annual-review\n",
      "HTTP Error scraping https://researchservices.cornell.edu/resources/dermatophytosis-or-ringworm: 403 Client Error: Forbidden for url: https://researchservices.cornell.edu/resources/dermatophytosis-or-ringworm\n"
     ]
    },
    {
     "name": "stdout",
     "output_type": "stream",
     "text": [
      "HTTP Error scraping https://researchservices.cornell.edu/resources/contagious-ecthyma-or-orf: 403 Client Error: Forbidden for url: https://researchservices.cornell.edu/resources/contagious-ecthyma-or-orf\n",
      "HTTP Error scraping https://researchservices.cornell.edu/resources/get-started-live-vertebrate-animals: 403 Client Error: Forbidden for url: https://researchservices.cornell.edu/resources/get-started-live-vertebrate-animalsHTTP Error scraping https://researchservices.cornell.edu/resources/gastrointestinal-infection: 403 Client Error: Forbidden for url: https://researchservices.cornell.edu/resources/gastrointestinal-infection\n",
      "\n",
      "HTTP Error scraping https://researchservices.cornell.edu/resources/giardiasis: 403 Client Error: Forbidden for url: https://researchservices.cornell.edu/resources/giardiasis\n",
      "HTTP Error scraping https://researchse"
     ]
    },
    {
     "data": {
      "text/html": [
       "<b>limit_output extension: Maximum message size of 10000 exceeded with 10570 characters</b>"
      ]
     },
     "metadata": {},
     "output_type": "display_data"
    }
   ],
   "source": [
    "import requests\n",
    "import time\n",
    "import json\n",
    "from bs4 import BeautifulSoup\n",
    "import pandas as pd\n",
    "from concurrent.futures import ThreadPoolExecutor, as_completed\n",
    "\n",
    "\n",
    "# Scrapes content from a given website and returns parsed content and metadata\n",
    "def scrape_website(url, metadata_row, blocked_sites):\n",
    "    \"\"\"Scrapes a given website URL and extracts structured text while avoiding navigation elements.\"\"\"\n",
    "    headers = {\n",
    "        \"User-Agent\": \"Mozilla/5.0 Safari/537.36\"\n",
    "    }\n",
    "    try:\n",
    "        response = requests.get(url, headers=headers, timeout=10)\n",
    "        response.raise_for_status()  # Raise error for 403 or other non-2xx responses\n",
    "\n",
    "        soup = BeautifulSoup(response.text, \"html.parser\")\n",
    "        \n",
    "        # Remove navigation and unwanted sections\n",
    "        for tag in soup.find_all([\"nav\", \"header\", \"aside\", \"form\", \"button\"]):\n",
    "            tag.decompose()\n",
    "\n",
    "        main_content = soup.find(\"main\") or soup.find(\"body\")\n",
    "        text_elements = []\n",
    "        for element in main_content.find_all(['p', 'h1', 'h2', 'h3', 'h4', 'h5', 'h6', 'li']):\n",
    "            text = element.get_text(strip=True)\n",
    "            links = [a.get(\"href\") for a in element.find_all(\"a\") if a.get(\"href\")]\n",
    "            if links:\n",
    "                text += \" (\" + \", \".join(links) + \")\"\n",
    "            text_elements.append(text)\n",
    "\n",
    "        text = \"\\n\".join(text_elements)\n",
    "\n",
    "        # Prepare the metadata dictionary to include text and other relevant info\n",
    "        metadata = metadata_row.to_dict()\n",
    "        metadata[\"Scraped Text\"] = text\n",
    "\n",
    "        return metadata\n",
    "\n",
    "    except requests.exceptions.HTTPError as e:\n",
    "        if response.status_code == 403:\n",
    "            blocked_sites.append(url)  # Store SSO-blocked site\n",
    "        print(f\"HTTP Error scraping {url}: {e}\")\n",
    "        return None\n",
    "    except Exception as e:\n",
    "        print(f\"Error scraping {url}: {e}\")\n",
    "        return None\n",
    "\n",
    "\n",
    "# Function to scrape all websites in parallel and store results in-memory\n",
    "def scrape_all_websites(sitemap):\n",
    "    \"\"\"Scrapes all URLs in sitemap and stores results with metadata in JSON format.\"\"\"\n",
    "    start_time = time.time()\n",
    "\n",
    "    scraped_data = []\n",
    "    blocked_sites = []\n",
    "\n",
    "    with ThreadPoolExecutor(max_workers=25) as executor:\n",
    "        future_to_url = {\n",
    "            executor.submit(scrape_website, row[\"URL location\"], row, blocked_sites): row[\"URL location\"]\n",
    "            for _, row in sitemap.iterrows()\n",
    "        }\n",
    "\n",
    "        for future in as_completed(future_to_url):\n",
    "            url = future_to_url[future]\n",
    "            metadata = future.result()\n",
    "\n",
    "            if metadata:\n",
    "                scraped_data.append(metadata)\n",
    "\n",
    "    # Create a DataFrame of blocked sites\n",
    "    blocked_sites_df = pd.DataFrame({\"Blocked URL\": blocked_sites})\n",
    "    \n",
    "    # Print results\n",
    "    print(f\"Number of SSO blocked sites: {len(blocked_sites)}\")\n",
    "    print(f\"Number of open sites: {len(scraped_data)}\")\n",
    "\n",
    "    # Save scraped data\n",
    "    with open(\"scraped_metadata.json\", \"w\") as f:\n",
    "        json.dump(scraped_data, f, indent=4)\n",
    "\n",
    "    # Save blocked sites DataFrame\n",
    "    blocked_sites_df.to_csv(\"blocked_sites.csv\", index=False)\n",
    "\n",
    "    end_time = time.time()\n",
    "    print(f\"[INFO] Total web scraping execution time: {end_time - start_time:.2f} sec\")\n",
    "\n",
    "    return scraped_data, blocked_sites_df\n",
    "\n",
    "\n",
    "# Call the function\n",
    "scraped_data, blocked_sites_df = scrape_all_websites(sitemap)\n"
   ]
  },
  {
   "cell_type": "code",
   "execution_count": 41,
   "id": "b804bce4",
   "metadata": {
    "ExecuteTime": {
     "end_time": "2025-03-20T23:38:27.901534Z",
     "start_time": "2025-03-20T23:38:27.797390Z"
    }
   },
   "outputs": [
    {
     "name": "stdout",
     "output_type": "stream",
     "text": [
      "Saved metadata for https://researchservices.cornell.edu/about/whats-popular in scraped_data_json/scraped_data_1.json\n",
      "Saved metadata for https://researchservices.cornell.edu/about/essential-tools in scraped_data_json/scraped_data_2.json\n",
      "Saved metadata for https://researchservices.cornell.edu/about/new-host-test-page in scraped_data_json/scraped_data_3.json\n",
      "Saved metadata for https://researchservices.cornell.edu/compliance/financial-management in scraped_data_json/scraped_data_4.json\n",
      "Saved metadata for https://researchservices.cornell.edu/contact/ao468 in scraped_data_json/scraped_data_5.json\n",
      "Saved metadata for https://researchservices.cornell.edu/contact/al2424 in scraped_data_json/scraped_data_6.json\n",
      "Saved metadata for https://researchservices.cornell.edu/ in scraped_data_json/scraped_data_7.json\n",
      "Saved metadata for https://researchservices.cornell.edu/close-project/how-to in scraped_data_json/scraped_data_8.json\n",
      "Saved metadata for https://researchservices.cornell.edu/compliance in scraped_data_json/scraped_data_9.json\n",
      "Saved metadata for https://researchservices.cornell.edu/commercialize/engaging-companies in scraped_data_json/scraped_data_10.json\n",
      "Saved metadata for https://researchservices.cornell.edu/center-help in scraped_data_json/scraped_data_11.json\n",
      "Saved metadata for https://researchservices.cornell.edu/commercialize/resources in scraped_data_json/scraped_data_12.json\n",
      "Saved metadata for https://researchservices.cornell.edu/compliance/human-research in scraped_data_json/scraped_data_13.json\n",
      "Saved metadata for https://researchservices.cornell.edu/compliance/research-safety in scraped_data_json/scraped_data_14.json\n",
      "Saved metadata for https://researchservices.cornell.edu/commercialize in scraped_data_json/scraped_data_15.json\n",
      "Saved metadata for https://researchservices.cornell.edu/close-project/end-project-early in scraped_data_json/scraped_data_16.json\n",
      "Saved metadata for https://researchservices.cornell.edu/commercialize/protect-ip in scraped_data_json/scraped_data_17.json\n",
      "Saved metadata for https://researchservices.cornell.edu/close-project/finances in scraped_data_json/scraped_data_18.json\n",
      "Saved metadata for https://researchservices.cornell.edu/compliance/rcr in scraped_data_json/scraped_data_19.json\n",
      "Saved metadata for https://researchservices.cornell.edu/compliance/live-vertebrate-animal-research in scraped_data_json/scraped_data_20.json\n",
      "Saved metadata for https://researchservices.cornell.edu/compliance/conflict-of-interest in scraped_data_json/scraped_data_21.json\n",
      "Saved metadata for https://researchservices.cornell.edu/close-project in scraped_data_json/scraped_data_22.json\n",
      "Saved metadata for https://researchservices.cornell.edu/contact/alj67 in scraped_data_json/scraped_data_23.json\n",
      "Saved metadata for https://researchservices.cornell.edu/contact/ac2459 in scraped_data_json/scraped_data_24.json\n",
      "Saved metadata for https://researchservices.cornell.edu/compliance/rsna-or-biohazardous-research in scraped_data_json/scraped_data_25.json\n",
      "Saved metadata for https://researchservices.cornell.edu/contact/as4383 in scraped_data_json/scraped_data_26.json\n",
      "Saved metadata for https://researchservices.cornell.edu/contact/cjw43 in scraped_data_json/scraped_data_27.json\n",
      "Saved metadata for https://researchservices.cornell.edu/contact/djl363 in scraped_data_json/scraped_data_28.json\n",
      "Saved metadata for https://researchservices.cornell.edu/contact/bmt2 in scraped_data_json/scraped_data_29.json\n",
      "Saved metadata for https://researchservices.cornell.edu/contact/cma20 in scraped_data_json/scraped_data_30.json\n",
      "Saved metadata for https://researchservices.cornell.edu/contact/cv282 in scraped_data_json/scraped_data_31.json\n",
      "Saved metadata for https://researchservices.cornell.edu/contact/clz28 in scraped_data_json/scraped_data_32.json\n",
      "Saved metadata for https://researchservices.cornell.edu/contact/ecv25 in scraped_data_json/scraped_data_33.json\n",
      "Saved metadata for https://researchservices.cornell.edu/contact/cds277 in scraped_data_json/scraped_data_34.json\n",
      "Saved metadata for https://researchservices.cornell.edu/contact/dp462 in scraped_data_json/scraped_data_35.json\n",
      "Saved metadata for https://researchservices.cornell.edu/contact/dbj43 in scraped_data_json/scraped_data_36.json\n",
      "Saved metadata for https://researchservices.cornell.edu/contact/cw25 in scraped_data_json/scraped_data_37.json\n",
      "Saved metadata for https://researchservices.cornell.edu/contact/eev28 in scraped_data_json/scraped_data_38.json\n",
      "Saved metadata for https://researchservices.cornell.edu/contact/efp32 in scraped_data_json/scraped_data_39.json\n",
      "Saved metadata for https://researchservices.cornell.edu/contact/gm467 in scraped_data_json/scraped_data_40.json\n",
      "Saved metadata for https://researchservices.cornell.edu/contact/ck554 in scraped_data_json/scraped_data_41.json\n",
      "Saved metadata for https://researchservices.cornell.edu/contact/hkr28 in scraped_data_json/scraped_data_42.json\n",
      "Saved metadata for https://researchservices.cornell.edu/contact/jcb78 in scraped_data_json/scraped_data_43.json\n",
      "Saved metadata for https://researchservices.cornell.edu/contact/jas2233 in scraped_data_json/scraped_data_44.json\n",
      "Saved metadata for https://researchservices.cornell.edu/contact/ekp54 in scraped_data_json/scraped_data_45.json\n",
      "Saved metadata for https://researchservices.cornell.edu/contact/jdc37 in scraped_data_json/scraped_data_46.json\n",
      "Saved metadata for https://researchservices.cornell.edu/contact/esk96 in scraped_data_json/scraped_data_47.json\n",
      "Saved metadata for https://researchservices.cornell.edu/contact/eh79 in scraped_data_json/scraped_data_48.json\n",
      "Saved metadata for https://researchservices.cornell.edu/contact/jea233-0 in scraped_data_json/scraped_data_49.json\n",
      "Saved metadata for https://researchservices.cornell.edu/contact/emd239 in scraped_data_json/scraped_data_50.json\n",
      "Saved metadata for https://researchservices.cornell.edu/contact/kim28cornelledu in scraped_data_json/scraped_data_51.json\n",
      "Saved metadata for https://researchservices.cornell.edu/contact/jrw7 in scraped_data_json/scraped_data_52.json\n",
      "Saved metadata for https://researchservices.cornell.edu/contact/kch227 in scraped_data_json/scraped_data_53.json\n",
      "Saved metadata for https://researchservices.cornell.edu/contact/kme78 in scraped_data_json/scraped_data_54.json\n",
      "Saved metadata for https://researchservices.cornell.edu/contact/jls679 in scraped_data_json/scraped_data_55.json\n",
      "Saved metadata for https://researchservices.cornell.edu/contact/jsk7 in scraped_data_json/scraped_data_56.json\n",
      "Saved metadata for https://researchservices.cornell.edu/contact/kmq22 in scraped_data_json/scraped_data_57.json\n",
      "Saved metadata for https://researchservices.cornell.edu/contact/jmm793 in scraped_data_json/scraped_data_58.json\n",
      "Saved metadata for https://researchservices.cornell.edu/contact/klb1 in scraped_data_json/scraped_data_59.json\n",
      "Saved metadata for https://researchservices.cornell.edu/contact/jmw549 in scraped_data_json/scraped_data_60.json\n",
      "Saved metadata for https://researchservices.cornell.edu/contact/kts58 in scraped_data_json/scraped_data_61.json\n",
      "Saved metadata for https://researchservices.cornell.edu/contact/kjb6 in scraped_data_json/scraped_data_62.json\n",
      "Saved metadata for https://researchservices.cornell.edu/contact/lwm55 in scraped_data_json/scraped_data_63.json\n",
      "Saved metadata for https://researchservices.cornell.edu/contact/mlr323 in scraped_data_json/scraped_data_64.json\n",
      "Saved metadata for https://researchservices.cornell.edu/contact/mhb3 in scraped_data_json/scraped_data_65.json\n",
      "Saved metadata for https://researchservices.cornell.edu/contact/nfl1 in scraped_data_json/scraped_data_66.json\n",
      "Saved metadata for https://researchservices.cornell.edu/contact/mk636 in scraped_data_json/scraped_data_67.json\n",
      "Saved metadata for https://researchservices.cornell.edu/contact/mib46 in scraped_data_json/scraped_data_68.json\n",
      "Saved metadata for https://researchservices.cornell.edu/contact/nme34 in scraped_data_json/scraped_data_69.json\n",
      "Saved metadata for https://researchservices.cornell.edu/contact/mmc328 in scraped_data_json/scraped_data_70.json\n",
      "Saved metadata for https://researchservices.cornell.edu/contact/mpd95 in scraped_data_json/scraped_data_71.json\n",
      "Saved metadata for https://researchservices.cornell.edu/contact/ncf33 in scraped_data_json/scraped_data_72.json\n",
      "Saved metadata for https://researchservices.cornell.edu/contact/oco5 in scraped_data_json/scraped_data_73.json\n",
      "Saved metadata for https://researchservices.cornell.edu/contact/rjo72 in scraped_data_json/scraped_data_74.json\n",
      "Saved metadata for https://researchservices.cornell.edu/contact/rjr327 in scraped_data_json/scraped_data_75.json\n",
      "Saved metadata for https://researchservices.cornell.edu/contact/maf49 in scraped_data_json/scraped_data_76.json\n",
      "Saved metadata for https://researchservices.cornell.edu/contact/plm86 in scraped_data_json/scraped_data_77.json\n",
      "Saved metadata for https://researchservices.cornell.edu/contact/sg232 in scraped_data_json/scraped_data_78.json\n",
      "Saved metadata for https://researchservices.cornell.edu/contact/sd536 in scraped_data_json/scraped_data_79.json\n",
      "Saved metadata for https://researchservices.cornell.edu/contact/rdm285 in scraped_data_json/scraped_data_80.json\n",
      "Saved metadata for https://researchservices.cornell.edu/contact/rt222 in scraped_data_json/scraped_data_81.json\n",
      "Saved metadata for https://researchservices.cornell.edu/contact/rav68 in scraped_data_json/scraped_data_82.json\n",
      "Saved metadata for https://researchservices.cornell.edu/contact/rsn2 in scraped_data_json/scraped_data_83.json\n",
      "Saved metadata for https://researchservices.cornell.edu/contact/scb255 in scraped_data_json/scraped_data_84.json\n",
      "Saved metadata for https://researchservices.cornell.edu/contact/srf63 in scraped_data_json/scraped_data_85.json\n",
      "Saved metadata for https://researchservices.cornell.edu/contacts/amy-wells-ibc-administrator in scraped_data_json/scraped_data_86.json\n",
      "Saved metadata for https://researchservices.cornell.edu/contact/skr54 in scraped_data_json/scraped_data_87.json\n",
      "Saved metadata for https"
     ]
    },
    {
     "data": {
      "text/html": [
       "<b>limit_output extension: Maximum message size of 10000 exceeded with 78828 characters</b>"
      ]
     },
     "metadata": {},
     "output_type": "display_data"
    }
   ],
   "source": [
    "import json\n",
    "import os\n",
    "\n",
    "# Function to save scraped data (including all metadata) into individual JSON files\n",
    "def save_scraped_data(scraped_data):\n",
    "    \"\"\"Saves each entry in scraped_data, including metadata, as a separate JSON file.\"\"\"\n",
    "    # Create a directory for saving JSON files\n",
    "    output_dir = \"scraped_data_json\"\n",
    "    if not os.path.exists(output_dir):\n",
    "        os.makedirs(output_dir)\n",
    "    \n",
    "    # Iterate over each entry in the list of scraped_data\n",
    "    for index, data in enumerate(scraped_data):\n",
    "        # Get URL and metadata\n",
    "        url = data.get('URL location', f'url_{index}')\n",
    "        \n",
    "        # Generate a safe filename using the index or a custom identifier\n",
    "        file_name = f\"scraped_data_{index + 1}.json\"\n",
    "        file_path = os.path.join(output_dir, file_name)\n",
    "\n",
    "        # Save the metadata to a JSON file\n",
    "        with open(file_path, \"w\") as json_file:\n",
    "            json.dump(data, json_file, indent=4)\n",
    "        print(f\"Saved metadata for {url} in {file_path}\")\n",
    "\n",
    "# Example usage\n",
    "save_scraped_data(scraped_data)\n"
   ]
  },
  {
   "cell_type": "code",
   "execution_count": 45,
   "id": "d2b79712",
   "metadata": {
    "ExecuteTime": {
     "end_time": "2025-03-21T12:27:17.242365Z",
     "start_time": "2025-03-21T12:27:17.237749Z"
    }
   },
   "outputs": [
    {
     "name": "stdout",
     "output_type": "stream",
     "text": [
      "Number of SSO blocked sites: 70\n",
      "Number of open sites: 552\n"
     ]
    }
   ],
   "source": [
    "print(f\"Number of SSO blocked sites: {len(blocked_sites_df)}\")\n",
    "print(f\"Number of open sites: {len(scraped_data)}\")"
   ]
  },
  {
   "cell_type": "code",
   "execution_count": 54,
   "id": "7b0c8ce4",
   "metadata": {
    "ExecuteTime": {
     "end_time": "2025-03-21T12:41:10.485770Z",
     "start_time": "2025-03-21T12:41:10.480450Z"
    }
   },
   "outputs": [
    {
     "data": {
      "text/plain": [
       "'https://researchservices.cornell.edu/policies/iacuc-policy-300-review-and-approval-applications-protocols-amendments-and-annual-reviews'"
      ]
     },
     "execution_count": 54,
     "metadata": {},
     "output_type": "execute_result"
    }
   ],
   "source": [
    "blocked_sites_df['Blocked URL'][4]\n"
   ]
  }
 ],
 "metadata": {
  "hide_input": false,
  "kernelspec": {
   "display_name": "Python 3 (ipykernel)",
   "language": "python",
   "name": "python3"
  },
  "language_info": {
   "codemirror_mode": {
    "name": "ipython",
    "version": 3
   },
   "file_extension": ".py",
   "mimetype": "text/x-python",
   "name": "python",
   "nbconvert_exporter": "python",
   "pygments_lexer": "ipython3",
   "version": "3.11.4"
  },
  "nbTranslate": {
   "displayLangs": [
    "*"
   ],
   "hotkey": "alt-t",
   "langInMainMenu": true,
   "sourceLang": "en",
   "targetLang": "fr",
   "useGoogleTranslate": true
  },
  "toc": {
   "base_numbering": 1,
   "nav_menu": {},
   "number_sections": true,
   "sideBar": true,
   "skip_h1_title": false,
   "title_cell": "Table of Contents",
   "title_sidebar": "Contents",
   "toc_cell": false,
   "toc_position": {},
   "toc_section_display": true,
   "toc_window_display": false
  },
  "varInspector": {
   "cols": {
    "lenName": 16,
    "lenType": 16,
    "lenVar": 40
   },
   "kernels_config": {
    "python": {
     "delete_cmd_postfix": "",
     "delete_cmd_prefix": "del ",
     "library": "var_list.py",
     "varRefreshCmd": "print(var_dic_list())"
    },
    "r": {
     "delete_cmd_postfix": ") ",
     "delete_cmd_prefix": "rm(",
     "library": "var_list.r",
     "varRefreshCmd": "cat(var_dic_list()) "
    }
   },
   "types_to_exclude": [
    "module",
    "function",
    "builtin_function_or_method",
    "instance",
    "_Feature"
   ],
   "window_display": false
  }
 },
 "nbformat": 4,
 "nbformat_minor": 5
}
