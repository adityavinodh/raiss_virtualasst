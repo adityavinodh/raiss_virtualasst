{
 "cells": [
  {
   "cell_type": "code",
   "execution_count": 12,
   "id": "402b8eb7",
   "metadata": {
    "ExecuteTime": {
     "end_time": "2025-04-17T17:32:35.631826Z",
     "start_time": "2025-04-17T17:32:30.222465Z"
    },
    "run_control": {
     "marked": true
    }
   },
   "outputs": [
    {
     "name": "stdout",
     "output_type": "stream",
     "text": [
      "Requirement already satisfied: langgraph in /Users/adityavinodh/anaconda3/lib/python3.11/site-packages (0.3.29)\n",
      "Collecting langgraph\n",
      "  Obtaining dependency information for langgraph from https://files.pythonhosted.org/packages/53/0f/c4802c26da60b84af1ee4a1d3013378da2354220aa2d0e766d07c5db1de2/langgraph-0.3.31-py3-none-any.whl.metadata\n",
      "  Downloading langgraph-0.3.31-py3-none-any.whl.metadata (7.9 kB)\n",
      "Requirement already satisfied: transformers in /Users/adityavinodh/anaconda3/lib/python3.11/site-packages (4.51.3)\n",
      "Requirement already satisfied: langsmith in /Users/adityavinodh/anaconda3/lib/python3.11/site-packages (0.3.30)\n",
      "Collecting langsmith\n",
      "  Obtaining dependency information for langsmith from https://files.pythonhosted.org/packages/67/64/87a103a6a1cdca06559b09aa270e5dbfe018df4fd1b8327ce5a720441629/langsmith-0.3.32-py3-none-any.whl.metadata\n",
      "  Downloading langsmith-0.3.32-py3-none-any.whl.metadata (15 kB)\n",
      "Requirement already satisfied: langchain-huggingface in /Users/adityavinodh/anaconda3/lib/python3.11/site-packages (0.1.2)\n",
      "Requirement already satisfied: langchain-core<0.4,>=0.1 in /Users/adityavinodh/anaconda3/lib/python3.11/site-packages (from langgraph) (0.3.35)\n",
      "Requirement already satisfied: langgraph-checkpoint<3.0.0,>=2.0.10 in /Users/adityavinodh/anaconda3/lib/python3.11/site-packages (from langgraph) (2.0.15)\n",
      "Requirement already satisfied: langgraph-prebuilt<0.2,>=0.1.8 in /Users/adityavinodh/anaconda3/lib/python3.11/site-packages (from langgraph) (0.1.8)\n",
      "Requirement already satisfied: langgraph-sdk<0.2.0,>=0.1.42 in /Users/adityavinodh/anaconda3/lib/python3.11/site-packages (from langgraph) (0.1.51)\n",
      "Requirement already satisfied: xxhash<4.0.0,>=3.5.0 in /Users/adityavinodh/anaconda3/lib/python3.11/site-packages (from langgraph) (3.5.0)\n",
      "Requirement already satisfied: filelock in /Users/adityavinodh/anaconda3/lib/python3.11/site-packages (from transformers) (3.16.1)\n",
      "Requirement already satisfied: huggingface-hub<1.0,>=0.30.0 in /Users/adityavinodh/anaconda3/lib/python3.11/site-packages (from transformers) (0.30.2)\n",
      "Requirement already satisfied: numpy>=1.17 in /Users/adityavinodh/anaconda3/lib/python3.11/site-packages (from transformers) (1.26.4)\n",
      "Requirement already satisfied: packaging>=20.0 in /Users/adityavinodh/anaconda3/lib/python3.11/site-packages (from transformers) (24.2)\n",
      "Requirement already satisfied: pyyaml>=5.1 in /Users/adityavinodh/anaconda3/lib/python3.11/site-packages (from transformers) (6.0.2)\n",
      "Requirement already satisfied: regex!=2019.12.17 in /Users/adityavinodh/anaconda3/lib/python3.11/site-packages (from transformers) (2022.7.9)\n",
      "Requirement already satisfied: requests in /Users/adityavinodh/anaconda3/lib/python3.11/site-packages (from transformers) (2.32.3)\n",
      "Requirement already satisfied: tokenizers<0.22,>=0.21 in /Users/adityavinodh/anaconda3/lib/python3.11/site-packages (from transformers) (0.21.0)\n",
      "Requirement already satisfied: safetensors>=0.4.3 in /Users/adityavinodh/anaconda3/lib/python3.11/site-packages (from transformers) (0.4.5)\n",
      "Requirement already satisfied: tqdm>=4.27 in /Users/adityavinodh/anaconda3/lib/python3.11/site-packages (from transformers) (4.67.1)\n",
      "Requirement already satisfied: httpx<1,>=0.23.0 in /Users/adityavinodh/anaconda3/lib/python3.11/site-packages (from langsmith) (0.27.2)\n",
      "Requirement already satisfied: orjson<4.0.0,>=3.9.14 in /Users/adityavinodh/anaconda3/lib/python3.11/site-packages (from langsmith) (3.10.11)\n",
      "Requirement already satisfied: pydantic<3,>=1 in /Users/adityavinodh/anaconda3/lib/python3.11/site-packages (from langsmith) (2.10.6)\n",
      "Requirement already satisfied: requests-toolbelt<2.0.0,>=1.0.0 in /Users/adityavinodh/anaconda3/lib/python3.11/site-packages (from langsmith) (1.0.0)\n",
      "Requirement already satisfied: zstandard<0.24.0,>=0.23.0 in /Users/adityavinodh/anaconda3/lib/python3.11/site-packages (from langsmith) (0.23.0)\n",
      "Requirement already satisfied: sentence-transformers>=2.6.0 in /Users/adityavinodh/anaconda3/lib/python3.11/site-packages (from langchain-huggingface) (3.3.1)\n",
      "Requirement already satisfied: anyio in /Users/adityavinodh/anaconda3/lib/python3.11/site-packages (from httpx<1,>=0.23.0->langsmith) (3.5.0)\n",
      "Requirement already satisfied: certifi in /Users/adityavinodh/anaconda3/lib/python3.11/site-packages (from httpx<1,>=0.23.0->langsmith) (2023.7.22)\n",
      "Requirement already satisfied: httpcore==1.* in /Users/adityavinodh/anaconda3/lib/python3.11/site-packages (from httpx<1,>=0.23.0->langsmith) (1.0.7)\n",
      "Requirement already satisfied: idna in /Users/adityavinodh/anaconda3/lib/python3.11/site-packages (from httpx<1,>=0.23.0->langsmith) (3.4)\n",
      "Requirement already satisfied: sniffio in /Users/adityavinodh/anaconda3/lib/python3.11/site-packages (from httpx<1,>=0.23.0->langsmith) (1.2.0)\n",
      "Requirement already satisfied: h11<0.15,>=0.13 in /Users/adityavinodh/anaconda3/lib/python3.11/site-packages (from httpcore==1.*->httpx<1,>=0.23.0->langsmith) (0.14.0)\n",
      "Requirement already satisfied: fsspec>=2023.5.0 in /Users/adityavinodh/anaconda3/lib/python3.11/site-packages (from huggingface-hub<1.0,>=0.30.0->transformers) (2024.6.1)\n",
      "Requirement already satisfied: typing-extensions>=3.7.4.3 in /Users/adityavinodh/anaconda3/lib/python3.11/site-packages (from huggingface-hub<1.0,>=0.30.0->transformers) (4.12.2)\n",
      "Requirement already satisfied: tenacity!=8.4.0,<10.0.0,>=8.1.0 in /Users/adityavinodh/anaconda3/lib/python3.11/site-packages (from langchain-core<0.4,>=0.1->langgraph) (8.2.2)\n",
      "Requirement already satisfied: jsonpatch<2.0,>=1.33 in /Users/adityavinodh/anaconda3/lib/python3.11/site-packages (from langchain-core<0.4,>=0.1->langgraph) (1.33)\n",
      "Requirement already satisfied: msgpack<2.0.0,>=1.1.0 in /Users/adityavinodh/anaconda3/lib/python3.11/site-packages (from langgraph-checkpoint<3.0.0,>=2.0.10->langgraph) (1.1.0)\n",
      "Requirement already satisfied: annotated-types>=0.6.0 in /Users/adityavinodh/anaconda3/lib/python3.11/site-packages (from pydantic<3,>=1->langsmith) (0.7.0)\n",
      "Requirement already satisfied: pydantic-core==2.27.2 in /Users/adityavinodh/anaconda3/lib/python3.11/site-packages (from pydantic<3,>=1->langsmith) (2.27.2)\n",
      "Requirement already satisfied: charset-normalizer<4,>=2 in /Users/adityavinodh/anaconda3/lib/python3.11/site-packages (from requests->transformers) (2.0.4)\n",
      "Requirement already satisfied: urllib3<3,>=1.21.1 in /Users/adityavinodh/anaconda3/lib/python3.11/site-packages (from requests->transformers) (1.26.16)\n",
      "Requirement already satisfied: torch>=1.11.0 in /Users/adityavinodh/anaconda3/lib/python3.11/site-packages (from sentence-transformers>=2.6.0->langchain-huggingface) (2.5.1)\n",
      "Requirement already satisfied: scikit-learn in /Users/adityavinodh/anaconda3/lib/python3.11/site-packages (from sentence-transformers>=2.6.0->langchain-huggingface) (1.3.0)\n",
      "Requirement already satisfied: scipy in /Users/adityavinodh/anaconda3/lib/python3.11/site-packages (from sentence-transformers>=2.6.0->langchain-huggingface) (1.15.1)\n",
      "Requirement already satisfied: Pillow in /Users/adityavinodh/anaconda3/lib/python3.11/site-packages (from sentence-transformers>=2.6.0->langchain-huggingface) (10.4.0)\n",
      "Requirement already satisfied: jsonpointer>=1.9 in /Users/adityavinodh/anaconda3/lib/python3.11/site-packages (from jsonpatch<2.0,>=1.33->langchain-core<0.4,>=0.1->langgraph) (2.1)\n",
      "Requirement already satisfied: networkx in /Users/adityavinodh/anaconda3/lib/python3.11/site-packages (from torch>=1.11.0->sentence-transformers>=2.6.0->langchain-huggingface) (3.1)\n",
      "Requirement already satisfied: jinja2 in /Users/adityavinodh/anaconda3/lib/python3.11/site-packages (from torch>=1.11.0->sentence-transformers>=2.6.0->langchain-huggingface) (3.1.4)\n",
      "Requirement already satisfied: sympy==1.13.1 in /Users/adityavinodh/anaconda3/lib/python3.11/site-packages (from torch>=1.11.0->sentence-transformers>=2.6.0->langchain-huggingface) (1.13.1)\n",
      "Requirement already satisfied: mpmath<1.4,>=1.1.0 in /Users/adityavinodh/anaconda3/lib/python3.11/site-packages (from sympy==1.13.1->torch>=1.11.0->sentence-transformers>=2.6.0->langchain-huggingface) (1.3.0)\n",
      "Requirement already satisfied: joblib>=1.1.1 in /Users/adityavinodh/anaconda3/lib/python3.11/site-packages (from scikit-learn->sentence-transformers>=2.6.0->langchain-huggingface) (1.2.0)\n",
      "Requirement already satisfied: threadpoolctl>=2.0.0 in /Users/adityavinodh/anaconda3/lib/python3.11/site-packages (from scikit-learn->sentence-transformers>=2.6.0->langchain-huggingface) (2.2.0)\n"
     ]
    },
    {
     "name": "stdout",
     "output_type": "stream",
     "text": [
      "Requirement already satisfied: MarkupSafe>=2.0 in /Users/adityavinodh/anaconda3/lib/python3.11/site-packages (from jinja2->torch>=1.11.0->sentence-transformers>=2.6.0->langchain-huggingface) (2.1.1)\n",
      "Downloading langgraph-0.3.31-py3-none-any.whl (145 kB)\n",
      "\u001b[2K   \u001b[90m━━━━━━━━━━━━━━━━━━━━━━━━━━━━━━━━━━━━━━━━\u001b[0m \u001b[32m145.2/145.2 kB\u001b[0m \u001b[31m3.4 MB/s\u001b[0m eta \u001b[36m0:00:00\u001b[0m00:01\u001b[0m\n",
      "\u001b[?25hDownloading langsmith-0.3.32-py3-none-any.whl (358 kB)\n",
      "\u001b[2K   \u001b[90m━━━━━━━━━━━━━━━━━━━━━━━━━━━━━━━━━━━━━━━━\u001b[0m \u001b[32m358.2/358.2 kB\u001b[0m \u001b[31m9.2 MB/s\u001b[0m eta \u001b[36m0:00:00\u001b[0m\n",
      "\u001b[?25hInstalling collected packages: langsmith, langgraph\n",
      "  Attempting uninstall: langsmith\n",
      "    Found existing installation: langsmith 0.3.30\n",
      "    Uninstalling langsmith-0.3.30:\n",
      "      Successfully uninstalled langsmith-0.3.30\n",
      "  Attempting uninstall: langgraph\n",
      "    Found existing installation: langgraph 0.3.29\n",
      "    Uninstalling langgraph-0.3.29:\n",
      "      Successfully uninstalled langgraph-0.3.29\n",
      "Successfully installed langgraph-0.3.31 langsmith-0.3.32\n",
      "Note: you may need to restart the kernel to use updated packages.\n"
     ]
    }
   ],
   "source": [
    "# %%capture --no-stderr\n",
    "%pip install -U langgraph transformers langsmith langchain-huggingface"
   ]
  },
  {
   "cell_type": "code",
   "execution_count": 1,
   "id": "14fd6e2e",
   "metadata": {
    "ExecuteTime": {
     "end_time": "2025-04-17T18:27:23.708065Z",
     "start_time": "2025-04-17T18:27:18.015882Z"
    }
   },
   "outputs": [
    {
     "name": "stdout",
     "output_type": "stream",
     "text": [
      "NVIDIA_API_KEY: ········\n"
     ]
    }
   ],
   "source": [
    "import getpass\n",
    "import os\n",
    "from langchain_nvidia import ChatNVIDIA\n",
    "\n",
    "\n",
    "def _set_env(var: str):\n",
    "    if not os.environ.get(var):\n",
    "        os.environ[var] = getpass.getpass(f\"{var}: \")\n",
    "\n",
    "\n",
    "_set_env(\"NVIDIA_API_KEY\")"
   ]
  },
  {
   "cell_type": "code",
   "execution_count": 30,
   "id": "bd4a44fd",
   "metadata": {
    "ExecuteTime": {
     "end_time": "2025-04-17T18:44:01.522561Z",
     "start_time": "2025-04-17T18:44:01.516583Z"
    }
   },
   "outputs": [],
   "source": [
    "from typing import Annotated\n",
    "\n",
    "from typing_extensions import TypedDict\n",
    "\n",
    "from langgraph.graph import StateGraph, START, END\n",
    "from langgraph.graph.message import add_messages\n",
    "import os\n",
    "import openai\n",
    "\n",
    "from dotenv import load_dotenv, find_dotenv\n",
    "_ = load_dotenv(find_dotenv()) # read local .env file\n",
    "from typing import List\n",
    "from pydantic import BaseModel, Field\n",
    "from langchain.utils.openai_functions import convert_pydantic_to_openai_function\n",
    "from langchain.prompts import ChatPromptTemplate\n",
    "from langchain.chat_models import ChatOpenAI\n",
    "from sentence_transformers import SentenceTransformer\n",
    "\n",
    "class State(TypedDict):\n",
    "    # Messages have the type \"list\". The `add_messages` function\n",
    "    # in the annotation defines how this state key should be updated\n",
    "    # (in this case, it appends messages to the list, rather than overwriting them)\n",
    "    messages: Annotated[list, add_messages]\n",
    "\n",
    "\n",
    "graph_builder = StateGraph(State)"
   ]
  },
  {
   "cell_type": "code",
   "execution_count": 31,
   "id": "9362fbe5",
   "metadata": {
    "ExecuteTime": {
     "end_time": "2025-04-17T18:44:03.007617Z",
     "start_time": "2025-04-17T18:44:03.004416Z"
    }
   },
   "outputs": [],
   "source": [
    "class State(TypedDict):\n",
    "    # Messages have the type \"list\". The `add_messages` function\n",
    "    # in the annotation defines how this state key should be updated\n",
    "    # (in this case, it appends messages to the list, rather than overwriting them)\n",
    "    messages: Annotated[list, add_messages]"
   ]
  },
  {
   "cell_type": "code",
   "execution_count": 32,
   "id": "e10ddafe",
   "metadata": {
    "ExecuteTime": {
     "end_time": "2025-04-17T18:44:03.841057Z",
     "start_time": "2025-04-17T18:44:03.830877Z"
    }
   },
   "outputs": [],
   "source": [
    "import json\n",
    "from pathlib import Path\n",
    "from langchain.docstore.document import Document\n",
    "\n",
    "def load_documents_from_json(directory_path):\n",
    "    \"\"\"Load documents from a directory containing JSON files.\"\"\"\n",
    "    documents = []\n",
    "    for file_path in Path(directory_path).glob(\"*.json\"):\n",
    "        with open(file_path, \"r\", encoding=\"utf-8\") as f:\n",
    "            try:\n",
    "                content = json.load(f)\n",
    "                text = content.get(\"Scraped Text\", \"\")\n",
    "                # Decode any escape sequences like \\u2013 (en dash) in the text\n",
    "                text = text.encode('utf-8').decode('unicode_escape')\n",
    "                metadata = {\n",
    "                    \"source\": content.get(\"URL location\", \"\"),\n",
    "                    \"last_modified\": content.get(\"Last modification date\", \"\"),\n",
    "                    \"change_frequency\": content.get(\"Change frequency\", \"\"),\n",
    "                    \"priority\": content.get(\"Priority\", \"\")\n",
    "                }\n",
    "                if text.strip():  # Only include documents with non-empty text\n",
    "                    # Generate a unique ID for each document, e.g., using the file name\n",
    "                    document_id = str(file_path.name)  # Using file name as the ID\n",
    "                    documents.append(Document(page_content=text, metadata=metadata, id=document_id))\n",
    "            except Exception as e:\n",
    "                print(f\"Failed to load {file_path.name}: {e}\")\n",
    "                continue  # Skip this file and move to the next one\n",
    "    return documents"
   ]
  },
  {
   "cell_type": "code",
   "execution_count": 33,
   "id": "2104ddb8",
   "metadata": {
    "ExecuteTime": {
     "end_time": "2025-04-17T18:44:06.864210Z",
     "start_time": "2025-04-17T18:44:06.859322Z"
    },
    "run_control": {
     "marked": true
    }
   },
   "outputs": [],
   "source": [
    "def update_vectorstore_from_scraped():\n",
    "    global vectorstore, embeddings\n",
    "\n",
    "    print(\"Loading documents from scraped_data_json...\")\n",
    "    new_documents = load_documents_from_json(\"scraped_data_json\")\n",
    "\n",
    "    if not new_documents:\n",
    "        print(\"No documents found.\")\n",
    "        return \"No documents found.\"\n",
    "\n",
    "    try:\n",
    "        vectorstore = FAISS.from_documents(new_documents, embeddings)\n",
    "        vectorstore.save_local(vectorDB_name)\n",
    "        print(\"Vectorstore updated from scraped JSON data.\")\n",
    "        return \"Success\"\n",
    "    except Exception as e:\n",
    "        print(f\"Error while updating vectorstore: {e}\")\n",
    "        return \"Error\""
   ]
  },
  {
   "cell_type": "code",
   "execution_count": 34,
   "id": "09b250a3",
   "metadata": {
    "ExecuteTime": {
     "end_time": "2025-04-17T18:44:08.221868Z",
     "start_time": "2025-04-17T18:44:08.216079Z"
    }
   },
   "outputs": [],
   "source": [
    "def load_and_search_docs(user_input, k=3):\n",
    "    global vectorstore, embeddings\n",
    "    if not vectorstore:\n",
    "        load_vector_database(vectorDB_name)\n",
    "\n",
    "    # Use the retriever with the full search space and a specified `k`\n",
    "    retriever = vectorstore.as_retriever(search_type=\"similarity\", search_kwargs={\"k\": k})\n",
    "    \n",
    "    docs = retriever.get_relevant_documents(user_input)\n",
    "\n",
    "    print(f\"\\n🔍 Query: {user_input}\")\n",
    "    for i, doc in enumerate(docs):\n",
    "        metadata_str = doc.metadata if hasattr(doc, 'metadata') else \"No metadata\"\n",
    "        print(f\"\\n📄 doc_{i} (source: {metadata_str}):\\n{doc.page_content[:300]}...\")\n",
    "\n",
    "    return {f\"doc_{i}\": d.page_content for i, d in enumerate(docs)}\n"
   ]
  },
  {
   "cell_type": "code",
   "execution_count": 35,
   "id": "d048a3a5",
   "metadata": {
    "ExecuteTime": {
     "end_time": "2025-04-17T18:44:10.630038Z",
     "start_time": "2025-04-17T18:44:10.558192Z"
    }
   },
   "outputs": [
    {
     "name": "stderr",
     "output_type": "stream",
     "text": [
      "/Users/adityavinodh/anaconda3/lib/python3.11/site-packages/langchain_nvidia_ai_endpoints/_common.py:212: UserWarning: Found meta/llama-3.3-70b-instruct in available_models, but type is unknown and inference may fail.\n",
      "  warnings.warn(\n"
     ]
    }
   ],
   "source": [
    "from langchain_core.messages import AIMessage\n",
    "\n",
    "llm = ChatNVIDIA(base_url=\"https://integrate.api.nvidia.com/v1\", model=\"meta/llama-3.3-70b-instruct\")\n",
    "def check_relevance_node(state):\n",
    "    user_question = state[\"user_input\"]\n",
    "    docs = state[\"docs\"]  # dict of key -> content\n",
    "\n",
    "    relevant_docs = {}\n",
    "\n",
    "    for key, content in docs.items():\n",
    "        prompt = f\"\"\"\n",
    "Question or email:\n",
    "\"{user_question}\"\n",
    "\n",
    "Document content:\n",
    "{content}\n",
    "\n",
    "Does this content provide any relevant information to answer the question?\n",
    "Respond only with a \"YES\" or \"NO\" on the last line.\n",
    "If absolutely uncertain, respond \"NO\". If slightly certain, respond \"YES\"\n",
    "\"\"\"\n",
    "        try:\n",
    "            print(prompt)\n",
    "            resp = llm.invoke(prompt)  # returns AIMessage\n",
    "            print(resp)\n",
    "            answer = resp.content.strip()\n",
    "            # Check if the answer is YES or NO and act accordingly\n",
    "            last_line = answer.split('\\n')[-1].strip().upper()\n",
    "            if last_line == \"YES\":\n",
    "                relevant_docs[key] = content\n",
    "                print(f\"Document '{key}' is relevant!\")\n",
    "            else:\n",
    "                print(f\"Document '{key}' is not relevant.\")\n",
    "\n",
    "        except Exception as e:\n",
    "            print(f\"[Error] {key} relevance check failed:\", e)\n",
    "\n",
    "    # Store the relevant docs in the state for further use\n",
    "    state[\"relevant_docs\"] = relevant_docs\n",
    "    print(f\"Checked {len(docs)} docs. Found {len(relevant_docs)} relevant.\")\n",
    "    return state\n"
   ]
  },
  {
   "cell_type": "code",
   "execution_count": 36,
   "id": "259dad68",
   "metadata": {
    "ExecuteTime": {
     "end_time": "2025-04-17T18:44:12.249176Z",
     "start_time": "2025-04-17T18:44:12.144520Z"
    }
   },
   "outputs": [
    {
     "name": "stderr",
     "output_type": "stream",
     "text": [
      "/Users/adityavinodh/anaconda3/lib/python3.11/site-packages/langchain_nvidia_ai_endpoints/_common.py:212: UserWarning: Found meta/llama-3.3-70b-instruct in available_models, but type is unknown and inference may fail.\n",
      "  warnings.warn(\n"
     ]
    }
   ],
   "source": [
    "from langchain_core.messages import AIMessage\n",
    "\n",
    "llm = ChatNVIDIA(base_url=\"https://integrate.api.nvidia.com/v1\", model=\"meta/llama-3.3-70b-instruct\")\n",
    "\n",
    "def build_prompt_node(state):\n",
    "    user_question = state[\"user_input\"]\n",
    "    relevant_docs = state.get(\"docs\", {})\n",
    "\n",
    "    if not relevant_docs:\n",
    "        print(\"No relevant documents found. Skipping final prompt generation.\")\n",
    "        state[\"final_response\"] = \"Sorry, I couldn't find a relevant answer in the provided documents.\"\n",
    "        return state\n",
    "\n",
    "    combined_context = \"\\n\\n---\\n\\n\".join(\n",
    "        f\"Document {i+1}:\\n{content}\" for i, content in enumerate(relevant_docs.values())\n",
    "    )\n",
    "\n",
    "    final_prompt = f\"\"\"\n",
    "You are an intelligent assistant.\n",
    "\n",
    "Here is a question from the user:\n",
    "\"{user_question}\"\n",
    "\n",
    "Here are relevant pieces of context from various documents:\n",
    "{combined_context}\n",
    "\n",
    "Based on the above content, provide a complete and helpful answer to the user's question.\n",
    "Be as specific and concise. If the content is not enough, say so clearly.\n",
    "\"\"\"\n",
    "\n",
    "    try:\n",
    "        response = llm.invoke(final_prompt)\n",
    "        final_answer = response.content.strip()\n",
    "        state[\"final_response\"] = final_answer\n",
    "    except Exception as e:\n",
    "        print(\"[Error] Failed to generate final response:\", e)\n",
    "        state[\"final_response\"] = \"An error occurred while generating the answer.\"\n",
    "\n",
    "    return state\n"
   ]
  },
  {
   "cell_type": "code",
   "execution_count": 37,
   "id": "11e7f941",
   "metadata": {
    "ExecuteTime": {
     "end_time": "2025-04-17T18:44:13.879193Z",
     "start_time": "2025-04-17T18:44:13.875927Z"
    }
   },
   "outputs": [],
   "source": [
    "def generate_answer_node(state):\n",
    "    final_answer = state.get(\"final_response\", None)\n",
    "\n",
    "    if not final_answer:\n",
    "        print(\"No final response available to return.\")\n",
    "        state[\"answer\"] = \"Sorry, I couldn't generate an answer at this time.\"\n",
    "    else:\n",
    "        state[\"answer\"] = final_answer\n",
    "\n",
    "    return state\n"
   ]
  },
  {
   "cell_type": "code",
   "execution_count": 38,
   "id": "89062587",
   "metadata": {
    "ExecuteTime": {
     "end_time": "2025-04-17T18:44:15.433437Z",
     "start_time": "2025-04-17T18:44:15.299583Z"
    },
    "code_folding": [],
    "run_control": {
     "marked": true
    }
   },
   "outputs": [
    {
     "data": {
      "image/png": "[encoded data removed]",
      "text/plain": [
       "<IPython.core.display.Image object>"
      ]
     },
     "metadata": {},
     "output_type": "display_data"
    }
   ],
   "source": [
    "from langgraph.graph import StateGraph\n",
    "\n",
    "builder = StateGraph(State)\n",
    "\n",
    "builder.add_node(\"get_initial_docs\", lambda state: {**state, \"docs\": load_and_search_docs(state[\"user_input\"])})\n",
    "\n",
    "builder.add_node(\"check_relevance\", check_relevance_node)\n",
    "builder.add_node(\"build_prompt\", build_prompt_node)\n",
    "builder.add_node(\"generate_answer\", generate_answer_node)\n",
    "\n",
    "builder.set_entry_point(\"get_initial_docs\")\n",
    "builder.add_edge(\"get_initial_docs\", \"check_relevance\")\n",
    "builder.add_edge(\"check_relevance\", \"build_prompt\")\n",
    "builder.add_edge(\"build_prompt\", \"generate_answer\")\n",
    "\n",
    "builder.set_finish_point(\"generate_answer\")\n",
    "\n",
    "graph = builder.compile()\n",
    "from IPython.display import Image, display\n",
    "\n",
    "try:\n",
    "    display(Image(graph.get_graph().draw_mermaid_png()))\n",
    "except Exception:\n",
    "    # This requires some extra dependencies and is optional\n",
    "    pass\n"
   ]
  },
  {
   "cell_type": "code",
   "execution_count": 23,
   "id": "93b154e7",
   "metadata": {
    "ExecuteTime": {
     "end_time": "2025-04-17T18:41:09.034659Z",
     "start_time": "2025-04-17T18:35:37.606054Z"
    }
   },
   "outputs": [
    {
     "name": "stderr",
     "output_type": "stream",
     "text": [
      "/var/folders/5z/c3rg13j54bdfj4dsnvyvgsyh0000gn/T/ipykernel_7783/326732280.py:19: LangChainDeprecationWarning: Default values for HuggingFaceEmbeddings.model_name were deprecated in LangChain 0.2.16 and will be removed in 0.4.0. Explicitly pass a model_name to the HuggingFaceEmbeddings constructor instead.\n",
      "  embeddings = HuggingFaceEmbeddings()\n"
     ]
    },
    {
     "name": "stdout",
     "output_type": "stream",
     "text": [
      "Successfully created the vector database from chunked documents.\n"
     ]
    }
   ],
   "source": [
    "import nltk\n",
    "from langchain.embeddings import HuggingFaceEmbeddings\n",
    "from langchain.vectorstores import FAISS\n",
    "from langchain.docstore.document import Document\n",
    "from nltk.tokenize import sent_tokenize\n",
    "\n",
    "# # Download punkt tokenizer once\n",
    "# nltk.download('punkt')\n",
    "\n",
    "# Define global variables for embeddings and model names\n",
    "vectorstore = None\n",
    "embeddings = None\n",
    "model_name=\"sentence-transformers/all-MiniLM-L6-v2\"\n",
    "vectorDB_name = \"raiss_site\"\n",
    "\n",
    "def initialize_embeddings():\n",
    "    \"\"\"Initialize the embedding model with remote code trust enabled.\"\"\"\n",
    "    global embeddings\n",
    "    embeddings = HuggingFaceEmbeddings()\n",
    "\n",
    "def create_vector_database(chunked_documents):\n",
    "    \"\"\"Create a Vector Database Base (VDB) from pre-processed document chunks.\"\"\"\n",
    "    global vectorstore\n",
    "    try:\n",
    "        # Ensure each chunked document is properly structured\n",
    "        wrapped_documents = []\n",
    "        for doc in chunked_documents:\n",
    "            try:\n",
    "                # Directly access page_content and metadata from Document\n",
    "                if not isinstance(doc, Document):\n",
    "                    print(f\"Skipping document with id {doc.id} as it is not a Document object.\")\n",
    "                    continue  # Skip this document if it is not a Document object\n",
    "                \n",
    "                # Append valid Document objects\n",
    "                wrapped_documents.append(doc)\n",
    "            except Exception as e:\n",
    "                print(f\"Error processing document with id {doc.id}: {str(e)}\")\n",
    "                continue  # Skip this document if an error occurs\n",
    "\n",
    "        # Create FAISS index and vector embeddings for chunks of data\n",
    "        vectorstore = FAISS.from_documents(wrapped_documents, embeddings)\n",
    "\n",
    "        # Save the vector database index locally\n",
    "        vectorstore.save_local(vectorDB_name)\n",
    "\n",
    "        return \"Successfully created the vector database from chunked documents.\"\n",
    "    except Exception as e:\n",
    "        return f\"Error creating vector database: {str(e)}\"\n",
    "\n",
    "def semantic_chunk_document(text, metadata=None, max_chunk_words=100):\n",
    "    if metadata is None:\n",
    "        metadata = {}\n",
    "\n",
    "    sentences = sent_tokenize(text)\n",
    "    chunks = []\n",
    "    current_chunk = \"\"\n",
    "    current_word_count = 0\n",
    "\n",
    "    for sentence in sentences:\n",
    "        words = sentence.split()\n",
    "        if current_word_count + len(words) > max_chunk_words:\n",
    "            chunks.append(Document(page_content=current_chunk.strip(), metadata=metadata))\n",
    "            current_chunk = sentence\n",
    "            current_word_count = len(words)\n",
    "        else:\n",
    "            current_chunk += \" \" + sentence\n",
    "            current_word_count += len(words)\n",
    "\n",
    "    if current_chunk:\n",
    "        chunks.append(Document(page_content=current_chunk.strip(), metadata=metadata))\n",
    "\n",
    "    return chunks\n",
    "\n",
    "def semantic_chunk_all_documents(documents, max_chunk_words=100):\n",
    "    all_chunks = []\n",
    "    for doc in documents:\n",
    "        chunks = semantic_chunk_document(doc.page_content, metadata=doc.metadata, max_chunk_words=max_chunk_words)\n",
    "        all_chunks.extend(chunks)\n",
    "    return all_chunks\n",
    "\n",
    "\n",
    "# Step 1: Load documents from a local directory\n",
    "documents_directory = \"/Users/adityavinodh/Documents/sp25mps/raiss_ai/scraped_data_json\"\n",
    "raw_documents = load_documents_from_json(documents_directory)  \n",
    "\n",
    "# Step 2: Apply semantic chunking\n",
    "chunked_documents = semantic_chunk_all_documents(raw_documents, max_chunk_words=100)\n",
    "\n",
    "# Step 3: Initialize embeddings model\n",
    "initialize_embeddings()\n",
    "\n",
    "# Step 4: Create the vector database\n",
    "result_message = create_vector_database(chunked_documents)\n",
    "\n",
    "print(result_message)\n"
   ]
  },
  {
   "cell_type": "code",
   "execution_count": 24,
   "id": "c35d957e",
   "metadata": {
    "ExecuteTime": {
     "end_time": "2025-04-14T16:00:35.572234Z",
     "start_time": "2025-04-14T15:57:53.165709Z"
    }
   },
   "outputs": [
    {
     "name": "stderr",
     "output_type": "stream",
     "text": [
      "/var/folders/5z/c3rg13j54bdfj4dsnvyvgsyh0000gn/T/ipykernel_50628/1119709352.py:10: LangChainDeprecationWarning: Default values for HuggingFaceEmbeddings.model_name were deprecated in LangChain 0.2.16 and will be removed in 0.4.0. Explicitly pass a model_name to the HuggingFaceEmbeddings constructor instead.\n",
      "  embeddings = HuggingFaceEmbeddings()\n"
     ]
    },
    {
     "name": "stdout",
     "output_type": "stream",
     "text": [
      "Successfully created the vector database from chunked documents.\n"
     ]
    }
   ],
   "source": [
    "\n",
    "    # # Example usage\n",
    "# # Step 1: Load documents from a local directory\n",
    "# documents_directory = \"/Users/adityavinodh/Documents/sp25mps/raiss_ai/scraped_data_json\"  # Update this to your local directory path\n",
    "# chunked_documents = load_documents_from_json(documents_directory)\n",
    "\n",
    "# # Step 2: Initialize embeddings model\n",
    "# initialize_embeddings()\n",
    "\n",
    "# # Step 3: Create the vector database\n",
    "\n",
    "# result_message = create_vector_database(chunked_documents)\n",
    "\n",
    "# print(result_message)"
   ]
  },
  {
   "cell_type": "code",
   "execution_count": 24,
   "id": "2c05eeaf",
   "metadata": {
    "ExecuteTime": {
     "end_time": "2025-04-17T18:41:13.032412Z",
     "start_time": "2025-04-17T18:41:12.853296Z"
    }
   },
   "outputs": [],
   "source": [
    "vectorstore.save_local(vectorDB_name)\n",
    "# vectorstore = FAISS.load_local(vectorDB_name, embeddings, allow_dangerous_deserialization=True)\n",
    "\n"
   ]
  },
  {
   "cell_type": "code",
   "execution_count": null,
   "id": "8ff34203",
   "metadata": {
    "ExecuteTime": {
     "start_time": "2025-04-17T18:44:18.058Z"
    }
   },
   "outputs": [
    {
     "name": "stdout",
     "output_type": "stream",
     "text": [
      "\n",
      "🔍 Query: Tell me about RAIS\n",
      "\n",
      "📄 doc_0 (source: {'source': 'https://researchservices.cornell.edu/offices/rais', 'last_modified': '2019-06-20T13:31Z', 'change_frequency': 'never', 'priority': '0.5'}):\n",
      "RAIS builds its expertise in researcher needs and challenges, research administration, and user experience design to achieve its goal of providing relevant and easy-to-use software tools. Quick Reference\n",
      "Rates (/rates)\n",
      "Forms (/forms)\n",
      "Policies (/policies)\n",
      "Contacts (/contacts)\n",
      "Training (/training)\n",
      "Eve...\n",
      "\n",
      "📄 doc_1 (source: {'source': 'https://researchservices.cornell.edu/resources/research-metrics', 'last_modified': '2019-11-19T12:00Z', 'change_frequency': 'never', 'priority': '0.5'}):\n",
      "Research Administration Information Services (RAIS) Office (/offices/rais)\n",
      "Quick Reference\n",
      "Rates (/rates)\n",
      "Forms (/forms)\n",
      "Policies (/policies)\n",
      "Contacts (/contacts)\n",
      "Training (/training)\n",
      "Events (/events)\n",
      "News & Announcements (/news)\n",
      "Â© 2019 Cornell University\n",
      "Web Accessibility Help (mailto:rais-help@co...\n",
      "\n",
      "📄 doc_2 (source: {'source': 'https://researchservices.cornell.edu/events/october-2020-osp-roundtable-cornells-research-administration-system-rass', 'last_modified': '2022-10-19T15:50Z', 'change_frequency': 'never', 'priority': '0.5'}):\n",
      "We will spend time during this roundtable to answer your questions about RASS. Bring your questions or submit them in advance to Carrie Susskind atcms357@cornell.edu. (mailto:cms357@cornell.edu)\n",
      "Zoom info:https://cornell.zoom.us/j/3042826417?pwd=QytwSlBhSmRDYlhQUk4rTXIvR28vUT09 (https://cornell.zoom...\n"
     ]
    }
   ],
   "source": [
    "from langchain.vectorstores import FAISS\n",
    "from langchain.embeddings import HuggingFaceEmbeddings\n",
    "\n",
    "vectorDB_name= \"raiss_site\"\n",
    "\n",
    "def load_vector_database(vectorDB_name = vectorDB_name):\n",
    "    global vectorstore\n",
    "    embeddings = HuggingFaceEmbeddings(model_name=\"sentence-transformers/all-MiniLM-L6-v2\")\n",
    "    vectorstore = FAISS.load_local(vectorDB_name, embeddings, allow_dangerous_deserialization=True)\n",
    "\n",
    "\n",
    "# Example user input\n",
    "user_input = \"Tell me about RAIS\"\n",
    "\n",
    "# Simulate initial state with only user input\n",
    "state = {\n",
    "    \"user_input\": user_input\n",
    "}\n",
    "\n",
    "# Step 1: Load and search documents dynamically\n",
    "# This adds \"docs\" to the state\n",
    "state = {\n",
    "    **state,\n",
    "    \"docs\": load_and_search_docs(state[\"user_input\"])  # <-- your dynamic search function\n",
    "}\n",
    "\n",
    "\n",
    "\n",
    "# # Step 2: Relevance Filtering via LLM\n",
    "# state = check_relevance_node(state)\n",
    "\n",
    "# Step 3: Build Prompt for Final Answer Generation\n",
    "state = build_prompt_node(state)\n",
    "\n",
    "# Step 4: Generate the Answer\n",
    "state = generate_answer_node(state)\n",
    "\n",
    "# Print final output\n",
    "print(\"\\n=== Final Answer ===\\n\")\n",
    "print(state.get(\"answer\", \"[No answer generated]\"))"
   ]
  }
 ],
 "metadata": {
  "hide_input": false,
  "kernelspec": {
   "display_name": "Python 3 (ipykernel)",
   "language": "python",
   "name": "python3"
  },
  "language_info": {
   "codemirror_mode": {
    "name": "ipython",
    "version": 3
   },
   "file_extension": ".py",
   "mimetype": "text/x-python",
   "name": "python",
   "nbconvert_exporter": "python",
   "pygments_lexer": "ipython3",
   "version": "3.11.4"
  },
  "nbTranslate": {
   "displayLangs": [
    "*"
   ],
   "hotkey": "alt-t",
   "langInMainMenu": true,
   "sourceLang": "en",
   "targetLang": "fr",
   "useGoogleTranslate": true
  },
  "toc": {
   "base_numbering": 1,
   "nav_menu": {},
   "number_sections": true,
   "sideBar": true,
   "skip_h1_title": false,
   "title_cell": "Table of Contents",
   "title_sidebar": "Contents",
   "toc_cell": false,
   "toc_position": {},
   "toc_section_display": true,
   "toc_window_display": false
  },
  "varInspector": {
   "cols": {
    "lenName": 16,
    "lenType": 16,
    "lenVar": 40
   },
   "kernels_config": {
    "python": {
     "delete_cmd_postfix": "",
     "delete_cmd_prefix": "del ",
     "library": "var_list.py",
     "varRefreshCmd": "print(var_dic_list())"
    },
    "r": {
     "delete_cmd_postfix": ") ",
     "delete_cmd_prefix": "rm(",
     "library": "var_list.r",
     "varRefreshCmd": "cat(var_dic_list()) "
    }
   },
   "types_to_exclude": [
    "module",
    "function",
    "builtin_function_or_method",
    "instance",
    "_Feature"
   ],
   "window_display": false
  }
 },
 "nbformat": 4,
 "nbformat_minor": 5
}
