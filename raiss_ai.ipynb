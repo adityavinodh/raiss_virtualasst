{
 "cells": [
  {
   "cell_type": "code",
   "execution_count": 14,
   "id": "402b8eb7",
   "metadata": {
    "ExecuteTime": {
     "end_time": "2025-04-10T23:07:44.634892Z",
     "start_time": "2025-04-10T23:07:43.043765Z"
    },
    "run_control": {
     "marked": true
    }
   },
   "outputs": [
    {
     "name": "stdout",
     "output_type": "stream",
     "text": [
      "\u001b[31mERROR: Could not find a version that satisfies the requirement langchain-nvidia (from versions: none)\u001b[0m\u001b[31m\n",
      "\u001b[0m\u001b[31mERROR: No matching distribution found for langchain-nvidia\u001b[0m\u001b[31m\n",
      "\u001b[0mNote: you may need to restart the kernel to use updated packages.\n"
     ]
    }
   ],
   "source": [
    "# %%capture --no-stderr\n",
    "# %pip install -U langgraph transformers langsmith langchain-huggingface"
   ]
  },
  {
   "cell_type": "code",
   "execution_count": 11,
   "id": "14fd6e2e",
   "metadata": {
    "ExecuteTime": {
     "end_time": "2025-04-11T17:02:27.497449Z",
     "start_time": "2025-04-11T17:02:19.113832Z"
    }
   },
   "outputs": [
    {
     "name": "stdout",
     "output_type": "stream",
     "text": [
      "NVIDIA_API_KEY: ········\n"
     ]
    }
   ],
   "source": [
    "import getpass\n",
    "import os\n",
    "from langchain_nvidia import ChatNVIDIA\n",
    "\n",
    "\n",
    "def _set_env(var: str):\n",
    "    if not os.environ.get(var):\n",
    "        os.environ[var] = getpass.getpass(f\"{var}: \")\n",
    "\n",
    "\n",
    "_set_env(\"NVIDIA_API_KEY\")"
   ]
  },
  {
   "cell_type": "code",
   "execution_count": 12,
   "id": "bd4a44fd",
   "metadata": {
    "ExecuteTime": {
     "end_time": "2025-04-11T17:02:28.973402Z",
     "start_time": "2025-04-11T17:02:28.967876Z"
    }
   },
   "outputs": [],
   "source": [
    "from typing import Annotated\n",
    "\n",
    "from typing_extensions import TypedDict\n",
    "\n",
    "from langgraph.graph import StateGraph, START, END\n",
    "from langgraph.graph.message import add_messages\n",
    "import os\n",
    "import openai\n",
    "\n",
    "from dotenv import load_dotenv, find_dotenv\n",
    "_ = load_dotenv(find_dotenv()) # read local .env file\n",
    "from typing import List\n",
    "from pydantic import BaseModel, Field\n",
    "from langchain.utils.openai_functions import convert_pydantic_to_openai_function\n",
    "from langchain.prompts import ChatPromptTemplate\n",
    "from langchain.chat_models import ChatOpenAI\n",
    "\n",
    "class State(TypedDict):\n",
    "    # Messages have the type \"list\". The `add_messages` function\n",
    "    # in the annotation defines how this state key should be updated\n",
    "    # (in this case, it appends messages to the list, rather than overwriting them)\n",
    "    messages: Annotated[list, add_messages]\n",
    "\n",
    "\n",
    "graph_builder = StateGraph(State)"
   ]
  },
  {
   "cell_type": "code",
   "execution_count": 13,
   "id": "9362fbe5",
   "metadata": {
    "ExecuteTime": {
     "end_time": "2025-04-11T17:02:31.249690Z",
     "start_time": "2025-04-11T17:02:31.246544Z"
    }
   },
   "outputs": [],
   "source": [
    "class State(TypedDict):\n",
    "    # Messages have the type \"list\". The `add_messages` function\n",
    "    # in the annotation defines how this state key should be updated\n",
    "    # (in this case, it appends messages to the list, rather than overwriting them)\n",
    "    messages: Annotated[list, add_messages]"
   ]
  },
  {
   "cell_type": "code",
   "execution_count": null,
   "id": "463e95ad",
   "metadata": {},
   "outputs": [],
   "source": [
    "import json\n",
    "from pathlib import Path\n",
    "from langchain.docstore.document import Document\n",
    "\n",
    "def load_documents_from_json(directory_path):\n",
    "    documents = []\n",
    "    for file_path in Path(directory_path).glob(\"*.json\"):\n",
    "        with open(file_path, \"r\", encoding=\"utf-8\") as f:\n",
    "            try:\n",
    "                content = json.load(f)\n",
    "                text = content.get(\"text\", \"\")\n",
    "                metadata = content.get(\"metadata\", {})\n",
    "                if text.strip():\n",
    "                    documents.append(Document(page_content=text, metadata=metadata))\n",
    "            except Exception as e:\n",
    "                print(f\"Failed to load {file_path.name}: {e}\")\n",
    "    return documents"
   ]
  },
  {
   "cell_type": "code",
   "execution_count": 14,
   "id": "d048a3a5",
   "metadata": {
    "ExecuteTime": {
     "end_time": "2025-04-11T17:02:32.421925Z",
     "start_time": "2025-04-11T17:02:32.348455Z"
    }
   },
   "outputs": [
    {
     "name": "stderr",
     "output_type": "stream",
     "text": [
      "/Users/adityavinodh/anaconda3/lib/python3.11/site-packages/langchain_nvidia_ai_endpoints/_common.py:212: UserWarning: Found meta/llama-3.3-70b-instruct in available_models, but type is unknown and inference may fail.\n",
      "  warnings.warn(\n"
     ]
    }
   ],
   "source": [
    "from langchain_core.messages import AIMessage\n",
    "\n",
    "llm = ChatNVIDIA(base_url=\"https://integrate.api.nvidia.com/v1\", model=\"meta/llama-3.3-70b-instruct\")\n",
    "def check_relevance_node(state):\n",
    "    user_question = state[\"user_input\"]\n",
    "    docs = state[\"docs\"]  # dict of key -> content\n",
    "\n",
    "    relevant_docs = {}\n",
    "\n",
    "    for key, content in docs.items():\n",
    "        prompt = f\"\"\"\n",
    "Question or email:\n",
    "\"{user_question}\"\n",
    "\n",
    "Document content:\n",
    "{content}\n",
    "\n",
    "Does this content answer the question directly?\n",
    "Respond with your clear justification first, followed by \"YES\" or \"NO\" only on the last line.\n",
    "If absolutely uncertain, respond \"NO\". If slightly certain, respond \"YES\"\n",
    "\"\"\"\n",
    "        try:\n",
    "            resp = llm.invoke(prompt)  # returns AIMessage\n",
    "            answer = resp.content.strip()\n",
    "\n",
    "            # Debugging the response and reasoning\n",
    "            print(f\"Prompt:\\n{prompt}\")\n",
    "            print(f\"LLM Answer: {answer}\")\n",
    "\n",
    "            # Check if the answer is YES or NO and act accordingly\n",
    "            last_line = answer.split('\\n')[-1].strip().upper()\n",
    "            if last_line == \"YES\":\n",
    "                relevant_docs[key] = content\n",
    "                print(f\"Document '{key}' is relevant!\")\n",
    "            else:\n",
    "                print(f\"Document '{key}' is not relevant.\")\n",
    "\n",
    "        except Exception as e:\n",
    "            print(f\"[Error] {key} relevance check failed:\", e)\n",
    "\n",
    "    # Store the relevant docs in the state for further use\n",
    "    state[\"relevant_docs\"] = relevant_docs\n",
    "    print(f\"Checked {len(docs)} docs. Found {len(relevant_docs)} relevant.\")\n",
    "    return state\n"
   ]
  },
  {
   "cell_type": "code",
   "execution_count": 15,
   "id": "259dad68",
   "metadata": {
    "ExecuteTime": {
     "end_time": "2025-04-11T17:02:33.922755Z",
     "start_time": "2025-04-11T17:02:33.845942Z"
    }
   },
   "outputs": [
    {
     "name": "stderr",
     "output_type": "stream",
     "text": [
      "/Users/adityavinodh/anaconda3/lib/python3.11/site-packages/langchain_nvidia_ai_endpoints/_common.py:212: UserWarning: Found meta/llama-3.3-70b-instruct in available_models, but type is unknown and inference may fail.\n",
      "  warnings.warn(\n"
     ]
    }
   ],
   "source": [
    "from langchain_core.messages import AIMessage\n",
    "\n",
    "llm = ChatNVIDIA(base_url=\"https://integrate.api.nvidia.com/v1\", model=\"meta/llama-3.3-70b-instruct\")\n",
    "\n",
    "def build_prompt_node(state):\n",
    "    user_question = state[\"user_input\"]\n",
    "    relevant_docs = state.get(\"relevant_docs\", {})\n",
    "\n",
    "    if not relevant_docs:\n",
    "        print(\"No relevant documents found. Skipping final prompt generation.\")\n",
    "        state[\"final_response\"] = \"Sorry, I couldn't find a relevant answer in the provided documents.\"\n",
    "        return state\n",
    "\n",
    "    combined_context = \"\\n\\n---\\n\\n\".join(\n",
    "        f\"Document {i+1}:\\n{content}\" for i, content in enumerate(relevant_docs.values())\n",
    "    )\n",
    "\n",
    "    final_prompt = f\"\"\"\n",
    "You are an intelligent assistant.\n",
    "\n",
    "Here is a question from the user:\n",
    "\"{user_question}\"\n",
    "\n",
    "Here are relevant pieces of context from various documents:\n",
    "{combined_context}\n",
    "\n",
    "Based on the above content, provide a complete and helpful answer to the user's question.\n",
    "Be as specific and concise. If the content is not enough, say so clearly.\n",
    "\"\"\"\n",
    "\n",
    "    try:\n",
    "        response = llm.invoke(final_prompt)\n",
    "        final_answer = response.content.strip()\n",
    "        state[\"final_response\"] = final_answer\n",
    "    except Exception as e:\n",
    "        print(\"[Error] Failed to generate final response:\", e)\n",
    "        state[\"final_response\"] = \"An error occurred while generating the answer.\"\n",
    "\n",
    "    return state\n"
   ]
  },
  {
   "cell_type": "code",
   "execution_count": 16,
   "id": "11e7f941",
   "metadata": {
    "ExecuteTime": {
     "end_time": "2025-04-11T17:02:35.593694Z",
     "start_time": "2025-04-11T17:02:35.590519Z"
    }
   },
   "outputs": [],
   "source": [
    "def generate_answer_node(state):\n",
    "    final_answer = state.get(\"final_response\", None)\n",
    "\n",
    "    if not final_answer:\n",
    "        print(\"No final response available to return.\")\n",
    "        state[\"answer\"] = \"Sorry, I couldn't generate an answer at this time.\"\n",
    "    else:\n",
    "        state[\"answer\"] = final_answer\n",
    "\n",
    "    return state\n"
   ]
  },
  {
   "cell_type": "code",
   "execution_count": 17,
   "id": "89062587",
   "metadata": {
    "ExecuteTime": {
     "end_time": "2025-04-11T17:02:36.435262Z",
     "start_time": "2025-04-11T17:02:36.344404Z"
    }
   },
   "outputs": [
    {
     "data": {
      "image/png": "[encoded data removed]",
      "text/plain": [
       "<IPython.core.display.Image object>"
      ]
     },
     "metadata": {},
     "output_type": "display_data"
    }
   ],
   "source": [
    "from langgraph.graph import StateGraph\n",
    "\n",
    "builder = StateGraph(State)\n",
    "\n",
    "builder.add_node(\"check_relevance\", check_relevance_node)\n",
    "builder.add_node(\"build_prompt\", build_prompt_node)\n",
    "builder.add_node(\"generate_answer\", generate_answer_node)\n",
    "\n",
    "builder.set_entry_point(\"check_relevance\")\n",
    "builder.add_edge(\"check_relevance\", \"build_prompt\")\n",
    "builder.add_edge(\"build_prompt\", \"generate_answer\")\n",
    "\n",
    "builder.set_finish_point(\"generate_answer\")\n",
    "\n",
    "graph = builder.compile()\n",
    "from IPython.display import Image, display\n",
    "\n",
    "try:\n",
    "    display(Image(graph.get_graph().draw_mermaid_png()))\n",
    "except Exception:\n",
    "    # This requires some extra dependencies and is optional\n",
    "    pass"
   ]
  },
  {
   "cell_type": "code",
   "execution_count": 24,
   "id": "8ff34203",
   "metadata": {
    "ExecuteTime": {
     "end_time": "2025-04-11T17:21:45.317284Z",
     "start_time": "2025-04-11T17:21:43.804572Z"
    }
   },
   "outputs": [
    {
     "name": "stdout",
     "output_type": "stream",
     "text": [
      "Prompt:\n",
      "\n",
      "Question or email:\n",
      "\"Who am I?\"\n",
      "\n",
      "Document content:\n",
      "{'URL location': 'https://researchservices.cornell.edu/commercialize/engaging-companies', 'Last modification date': '2023-04-05T19:25Z', 'Change frequency': 'yearly', 'Priority': '0.5', 'Scraped Text': 'Find guidance on funding and agency updates during the federal government transition(updated 3/19/2025) (/federal-transition)\\nEssential ToolsFind My GCORASSExternalInstitutional Profile & DUNSIACUC applications (Cayuse Animal Management)Find Your Next Funding OpportunityIBC Applications (RASS-IBC)Research Development (ReD) ServicesIRB Applications (RASS-IRB)ExternalRates and budgetsReport external interests (RASS-COI)Join List ServsRASS Access Request FormAsk EHSExternalWeb Financials (WebFin2)ExternalCornell Data ServicesExternalPI DashboardExternalTravel RegistryExternalResearch Financials (formerly RA Dashboard)ExternalInternational research activitiesExternalRegister for Federal and Non-Federal SystemsDisclose Foreign Collaborations and SupportResearch metrics & executive dashboardsTraining (/about/essential-tools, /gco, http://guide.rass.cornell.edu/, /resources/institutional-profile-duns-and-uei-numbers, /resources/submit-new-iacuc-protocol, /proposal/Find-Your-Next-Funding-Opportunity, /resources/ibc-application-submission-review-and-approval, /research-development, https://rass.cornell.edu/irb, /proposal/budget, /compliance/conflict-of-interest, /resources/research-mailing-lists-list-servs, /resources/get-access-financial-sponsored-projects-data, https://tdx.cornell.edu/TDClient/42/Portal/Requests/TicketRequests/NewForm?ID=q5sab44D6GI_, http://webfin2.cornell.edu/, https://data.research.cornell.edu/, https://pidash.cornell.edu, https://travelregistry.cornell.edu/, http://radash.cornell.edu/, https://navigate.cornell.edu, /resources/register-federal-and-non-federal-systems, /proposal/disclose-foreign-collaborations-and-support, /resources/research-metrics, /training)\\nFind My GCO (/gco)\\nRASSExternal (http://guide.rass.cornell.edu/)\\nInstitutional Profile & DUNS (/resources/institutional-profile-duns-and-uei-numbers)\\nIACUC applications (Cayuse Animal Management) (/resources/submit-new-iacuc-protocol)\\nFind Your Next Funding Opportunity (/proposal/Find-Your-Next-Funding-Opportunity)\\nIBC Applications (RASS-IBC) (/resources/ibc-application-submission-review-and-approval)\\nResearch Development (ReD) Services (/research-development)\\nIRB Applications (RASS-IRB)External (https://rass.cornell.edu/irb)\\nRates and budgets (/proposal/budget)\\nReport external interests (RASS-COI) (/compliance/conflict-of-interest)\\nJoin List Servs (/resources/research-mailing-lists-list-servs)\\nRASS Access Request Form (/resources/get-access-financial-sponsored-projects-data)\\nAsk EHSExternal (https://tdx.cornell.edu/TDClient/42/Portal/Requests/TicketRequests/NewForm?ID=q5sab44D6GI_)\\nWeb Financials (WebFin2)External (http://webfin2.cornell.edu/)\\nCornell Data ServicesExternal (https://data.research.cornell.edu/)\\nPI DashboardExternal (https://pidash.cornell.edu)\\nTravel RegistryExternal (https://travelregistry.cornell.edu/)\\nResearch Financials (formerly RA Dashboard)External (http://radash.cornell.edu/)\\nInternational research activitiesExternal (https://navigate.cornell.edu)\\nRegister for Federal and Non-Federal Systems (/resources/register-federal-and-non-federal-systems)\\nDisclose Foreign Collaborations and Support (/proposal/disclose-foreign-collaborations-and-support)\\nResearch metrics & executive dashboards (/resources/research-metrics)\\nTraining (/training)\\nSearch (/search)\\nEngaging with Industry\\nHundreds of corporations have learned that partnering with Cornell is smart business. With a dynamic campus in Ithaca and the development of Cornell Tech in New York City, Cornell fosters a climate where collaboration with industry flourishes, creating breakthrough discoveries that help to advance industry and expanding opportunities for continuous innovation.\\nOffice of Corporate Engagement\\nTheOffice of Corporate Engagementtracks, leads and grows university strategic corporate relationships. Provides support to grow lab-to-market pathways through grants, centers and innovation hubs. Serves to assist faculty in building lasting corporate research partnerships. Helps companies connect with Cornell via campus outreach staff. (/offices/office-corporate-engagement)\\nLicensing Strategy\\nOver the years, theCenter for Technology Licensing (CTL)has licensed technologies to industry partners and start-ups all over the world in support of Cornell’s mission and to develop these technologies and plant varieties into products and services for public good. Once you have disclosed your invention to CTL, your licensing officer will work with you to explore its market or commercial potential and develop a licensing strategy. (https://ctl.cornell.edu/)\\nIf you and your licensing officer determine the use of your invention in the starting of a new business enterprise will best advance the university’s missions and strategic goals, CTL will work to help create the startup company. If you are interested in leading this effort, let the licensing officer responsible for your invention know. (https://ctl.cornell.edu/about/staff/#commercialization)\\nCorporate Partnership & Innovation (/commercialize)\\nQuick Reference\\nRates (/rates)\\nForms (/forms)\\nPolicies (/policies)\\nContacts (/contacts)\\nTraining (/training)\\nEvents (/events)\\nNews & Announcements (/news)\\n© 2019 Cornell University\\nWeb Accessibility Help (mailto:rais-help@cornell.edu?subject=researchservices.cornell.edu%20site)\\n'}\n",
      "\n",
      "Does this content answer the question directly?\n",
      "Respond with your clear justification first, followed by \"YES\" or \"NO\" only on the last line.\n",
      "If absolutely uncertain, respond \"NO\". If slightly certain, respond \"YES\"\n",
      "\n",
      "LLM Answer: The content provided does not contain any information that directly answers the question \"Who am I?\" as it appears to be a webpage or document related to research services and corporate engagement at Cornell University, with no personal or identifying information that would help to determine the identity of the person asking the question. There is no clear connection or relevance between the content and the question posed.\n",
      "\n",
      "NO\n",
      "Document 'doc1' is not relevant.\n",
      "Checked 1 docs. Found 0 relevant.\n",
      "No relevant documents found. Skipping final prompt generation.\n",
      "\n",
      "=== Final Answer ===\n",
      "\n",
      "Sorry, I couldn't find a relevant answer in the provided documents.\n"
     ]
    }
   ],
   "source": [
    "# Dummy data for testing\n",
    "user_input = \"How can I engage with industry partners through Cornell's research services?\"\n",
    "\n",
    "docs = {\n",
    "    \"doc1\": {\n",
    "        \"URL location\": \"https://researchservices.cornell.edu/commercialize/engaging-companies\",\n",
    "        \"Last modification date\": \"2023-04-05T19:25Z\",\n",
    "        \"Change frequency\": \"yearly\",\n",
    "        \"Priority\": \"0.5\",\n",
    "        \"Scraped Text\": \"\"\"Find guidance on funding and agency updates during the federal government transition(updated 3/19/2025) (/federal-transition)\n",
    "Essential ToolsFind My GCORASSExternalInstitutional Profile & DUNSIACUC applications (Cayuse Animal Management)Find Your Next Funding OpportunityIBC Applications (RASS-IBC)Research Development (ReD) ServicesIRB Applications (RASS-IRB)ExternalRates and budgetsReport external interests (RASS-COI)Join List ServsRASS Access Request FormAsk EHSExternalWeb Financials (WebFin2)ExternalCornell Data ServicesExternalPI DashboardExternalTravel RegistryExternalResearch Financials (formerly RA Dashboard)ExternalInternational research activitiesExternalRegister for Federal and Non-Federal SystemsDisclose Foreign Collaborations and SupportResearch metrics & executive dashboardsTraining (/about/essential-tools, /gco, http://guide.rass.cornell.edu/, /resources/institutional-profile-duns-and-uei-numbers, /resources/submit-new-iacuc-protocol, /proposal/Find-Your-Next-Funding-Opportunity, /resources/ibc-application-submission-review-and-approval, /research-development, https://rass.cornell.edu/irb, /proposal/budget, /compliance/conflict-of-interest, /resources/research-mailing-lists-list-servs, /resources/get-access-financial-sponsored-projects-data, https://tdx.cornell.edu/TDClient/42/Portal/Requests/TicketRequests/NewForm?ID=q5sab44D6GI_, http://webfin2.cornell.edu/, https://data.research.cornell.edu/, https://pidash.cornell.edu, https://travelregistry.cornell.edu/, http://radash.cornell.edu/, https://navigate.cornell.edu, /resources/register-federal-and-non-federal-systems, /proposal/disclose-foreign-collaborations-and-support, /resources/research-metrics, /training)\n",
    "Find My GCO (/gco)\n",
    "RASSExternal (http://guide.rass.cornell.edu/)\n",
    "Institutional Profile & DUNS (/resources/institutional-profile-duns-and-uei-numbers)\n",
    "IACUC applications (Cayuse Animal Management) (/resources/submit-new-iacuc-protocol)\n",
    "Find Your Next Funding Opportunity (/proposal/Find-Your-Next-Funding-Opportunity)\n",
    "IBC Applications (RASS-IBC) (/resources/ibc-application-submission-review-and-approval)\n",
    "Research Development (ReD) Services (/research-development)\n",
    "IRB Applications (RASS-IRB)External (https://rass.cornell.edu/irb)\n",
    "Rates and budgets (/proposal/budget)\n",
    "Report external interests (RASS-COI) (/compliance/conflict-of-interest)\n",
    "Join List Servs (/resources/research-mailing-lists-list-servs)\n",
    "RASS Access Request Form (/resources/get-access-financial-sponsored-projects-data)\n",
    "Ask EHSExternal (https://tdx.cornell.edu/TDClient/42/Portal/Requests/TicketRequests/NewForm?ID=q5sab44D6GI_)\n",
    "Web Financials (WebFin2)External (http://webfin2.cornell.edu/)\n",
    "Cornell Data ServicesExternal (https://data.research.cornell.edu/)\n",
    "PI DashboardExternal (https://pidash.cornell.edu)\n",
    "Travel RegistryExternal (https://travelregistry.cornell.edu/)\n",
    "Research Financials (formerly RA Dashboard)External (http://radash.cornell.edu/)\n",
    "International research activitiesExternal (https://navigate.cornell.edu)\n",
    "Register for Federal and Non-Federal Systems (/resources/register-federal-and-non-federal-systems)\n",
    "Disclose Foreign Collaborations and Support (/proposal/disclose-foreign-collaborations-and-support)\n",
    "Research metrics & executive dashboards (/resources/research-metrics)\n",
    "Training (/training)\n",
    "Search (/search)\n",
    "Engaging with Industry\n",
    "Hundreds of corporations have learned that partnering with Cornell is smart business. With a dynamic campus in Ithaca and the development of Cornell Tech in New York City, Cornell fosters a climate where collaboration with industry flourishes, creating breakthrough discoveries that help to advance industry and expanding opportunities for continuous innovation.\n",
    "Office of Corporate Engagement\n",
    "TheOffice of Corporate Engagementtracks, leads and grows university strategic corporate relationships. Provides support to grow lab-to-market pathways through grants, centers and innovation hubs. Serves to assist faculty in building lasting corporate research partnerships. Helps companies connect with Cornell via campus outreach staff. (/offices/office-corporate-engagement)\n",
    "Licensing Strategy\n",
    "Over the years, theCenter for Technology Licensing (CTL)has licensed technologies to industry partners and start-ups all over the world in support of Cornell’s mission and to develop these technologies and plant varieties into products and services for public good. Once you have disclosed your invention to CTL, your licensing officer will work with you to explore its market or commercial potential and develop a licensing strategy. (https://ctl.cornell.edu/)\n",
    "If you and your licensing officer determine the use of your invention in the starting of a new business enterprise will best advance the university’s missions and strategic goals, CTL will work to help create the startup company. If you are interested in leading this effort, let the licensing officer responsible for your invention know. (https://ctl.cornell.edu/about/staff/#commercialization)\n",
    "Corporate Partnership & Innovation (/commercialize)\n",
    "Quick Reference\n",
    "Rates (/rates)\n",
    "Forms (/forms)\n",
    "Policies (/policies)\n",
    "Contacts (/contacts)\n",
    "Training (/training)\n",
    "Events (/events)\n",
    "News & Announcements (/news)\n",
    "© 2019 Cornell University\n",
    "Web Accessibility Help (mailto:rais-help@cornell.edu?subject=researchservices.cornell.edu%20site)\n",
    "\"\"\"\n",
    "    }\n",
    "}\n",
    "        \n",
    "# Simulate initial state\n",
    "state = {\n",
    "    \"user_input\": user_input,\n",
    "    \"docs\": docs\n",
    "}\n",
    "\n",
    "# Step 1: Relevance Filtering\n",
    "state = check_relevance_node(state)\n",
    "\n",
    "# Step 2: Build Prompt\n",
    "state = build_prompt_node(state)\n",
    "\n",
    "# Step 3: Generate Final Answer\n",
    "state = generate_answer_node(state)\n",
    "\n",
    "# See output\n",
    "print(\"\\n=== Final Answer ===\\n\")\n",
    "print(state[\"answer\"])\n"
   ]
  }
 ],
 "metadata": {
  "hide_input": false,
  "kernelspec": {
   "display_name": "Python 3 (ipykernel)",
   "language": "python",
   "name": "python3"
  },
  "language_info": {
   "codemirror_mode": {
    "name": "ipython",
    "version": 3
   },
   "file_extension": ".py",
   "mimetype": "text/x-python",
   "name": "python",
   "nbconvert_exporter": "python",
   "pygments_lexer": "ipython3",
   "version": "3.11.4"
  },
  "nbTranslate": {
   "displayLangs": [
    "*"
   ],
   "hotkey": "alt-t",
   "langInMainMenu": true,
   "sourceLang": "en",
   "targetLang": "fr",
   "useGoogleTranslate": true
  },
  "toc": {
   "base_numbering": 1,
   "nav_menu": {},
   "number_sections": true,
   "sideBar": true,
   "skip_h1_title": false,
   "title_cell": "Table of Contents",
   "title_sidebar": "Contents",
   "toc_cell": false,
   "toc_position": {},
   "toc_section_display": true,
   "toc_window_display": false
  },
  "varInspector": {
   "cols": {
    "lenName": 16,
    "lenType": 16,
    "lenVar": 40
   },
   "kernels_config": {
    "python": {
     "delete_cmd_postfix": "",
     "delete_cmd_prefix": "del ",
     "library": "var_list.py",
     "varRefreshCmd": "print(var_dic_list())"
    },
    "r": {
     "delete_cmd_postfix": ") ",
     "delete_cmd_prefix": "rm(",
     "library": "var_list.r",
     "varRefreshCmd": "cat(var_dic_list()) "
    }
   },
   "types_to_exclude": [
    "module",
    "function",
    "builtin_function_or_method",
    "instance",
    "_Feature"
   ],
   "window_display": false
  }
 },
 "nbformat": 4,
 "nbformat_minor": 5
}
